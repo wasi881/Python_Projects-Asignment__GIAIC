{
  "nbformat": 4,
  "nbformat_minor": 0,
  "metadata": {
    "colab": {
      "provenance": []
    },
    "kernelspec": {
      "name": "python3",
      "display_name": "Python 3"
    },
    "language_info": {
      "name": "python"
    }
  },
  "cells": [
    {
      "cell_type": "markdown",
      "source": [
        "#**06 Build Compose & Decorate**"
      ],
      "metadata": {
        "id": "389mV-o7QW8O"
      }
    },
    {
      "cell_type": "markdown",
      "source": [
        "## **1. Using self**\n",
        "####Assignment:\n",
        "####Create a class Student with attributes name and marks.\n",
        "####Use the self keyword to initialize these values via a constructor.\n",
        "####Add a method display() that prints student details."
      ],
      "metadata": {
        "id": "tTy1gslhQs50"
      }
    },
    {
      "cell_type": "code",
      "source": [
        "class Student:\n",
        "    def __init__(self , name ,  marks):\n",
        "        self.name = name\n",
        "        self.marks = marks\n",
        "\n",
        "    def dislay(self):\n",
        "        return  f\"Name = {self.name}, \\nMarks = {self.marks}\"\n",
        "\n",
        "student1: Student = Student(\"Wasi Ahmed\", 55)\n",
        "student2: Student = Student(\"Ahmed\", 65)\n",
        "\n",
        "print(\"Student No 1\\n\"+student1.dislay() + \"\\n--------------------\")\n",
        "print(\"Student No 2\\n\"+student2.dislay())"
      ],
      "metadata": {
        "colab": {
          "base_uri": "https://localhost:8080/"
        },
        "id": "0dsd7iZqR1U0",
        "outputId": "c576eaff-d9f3-4b0d-da83-16f81dc97277"
      },
      "execution_count": null,
      "outputs": [
        {
          "output_type": "stream",
          "name": "stdout",
          "text": [
            "Student No 1\n",
            "Name = Wasi Ahmed, \n",
            "Marks = 55\n",
            "--------------------\n",
            "Student No 2\n",
            "Name = Ahmed, \n",
            "Marks = 65\n"
          ]
        }
      ]
    },
    {
      "cell_type": "markdown",
      "source": [
        "## **2. Using cls**\n",
        "#### Assignment:\n",
        "####Create a class Counter that keeps track of how many objects have been created.\n",
        "####Use a class variable and a class method with cls to manage and display the count.\n"
      ],
      "metadata": {
        "id": "T8bdHs7FSBpn"
      }
    },
    {
      "cell_type": "code",
      "source": [
        "class Counter:\n",
        "    count = 0\n",
        "    def __init__(self):\n",
        "        Counter.count +=1\n",
        "    @classmethod\n",
        "    def display_Count(cls):\n",
        "        return f\"Total  objects created : {cls.count}\"\n",
        "\n",
        "obj1 : Counter  = Counter()\n",
        "obj2 : Counter  = Counter()\n",
        "obj3 : Counter  = Counter()\n",
        "obj4 : Counter  = Counter()\n",
        "\n",
        "print(Counter.display_Count())"
      ],
      "metadata": {
        "colab": {
          "base_uri": "https://localhost:8080/"
        },
        "id": "pDZLlWM3Srbp",
        "outputId": "7be706cb-a2d3-4d97-d944-019d518777b1"
      },
      "execution_count": null,
      "outputs": [
        {
          "output_type": "stream",
          "name": "stdout",
          "text": [
            "Total  objects created : 4\n"
          ]
        }
      ]
    },
    {
      "cell_type": "markdown",
      "source": [
        "## **3. Public Variables & Methods**\n",
        "#### Assignment:\n",
        "####Create a class Car with a public variable brand and a public method start().\n",
        "####Instantiate the class and access both from outside the class."
      ],
      "metadata": {
        "id": "K8AegfE-SxQy"
      }
    },
    {
      "cell_type": "code",
      "source": [
        "class Car:\n",
        "    def __init__(self, brand):\n",
        "        self.brand = brand\n",
        "\n",
        "    def start(self):\n",
        "        return f\"{self.brand} is starting.\"\n",
        "\n",
        "car:Car = Car(\"Toyota\")\n",
        "print(car.brand)\n",
        "print(car.start())"
      ],
      "metadata": {
        "colab": {
          "base_uri": "https://localhost:8080/"
        },
        "id": "AJO1i7NlTGTJ",
        "outputId": "9d9f9c7f-3907-47d2-b1c4-5695d482327f"
      },
      "execution_count": null,
      "outputs": [
        {
          "output_type": "stream",
          "name": "stdout",
          "text": [
            "Toyota\n",
            "Toyota is starting.\n"
          ]
        }
      ]
    },
    {
      "cell_type": "markdown",
      "source": [
        "## **4. Class Variables & Class Methods**\n",
        "#### Assignment:\n",
        "####Create a class Bank with a class variable bank_name.\n",
        "####Add a class method change_bank_name(cls, name) that allows changing the bank name.\n",
        "####Show that it affects all instances."
      ],
      "metadata": {
        "id": "B7xBboT4TNc9"
      }
    },
    {
      "cell_type": "code",
      "source": [
        "class Bank:\n",
        "    bank_name = \"Sindh Bank\"\n",
        "\n",
        "    @classmethod\n",
        "    def change_bank_name(self, name):\n",
        "        self.bank_name = name\n",
        "\n",
        "obj1:Bank = Bank()\n",
        "print(obj1.bank_name)\n",
        "obj2:Bank = Bank()\n",
        "print(obj2.bank_name)\n",
        "Bank.change_bank_name(\"National Bank\")\n",
        "print(obj1.bank_name)\n",
        "print(obj2.bank_name)\n",
        "print(Bank.bank_name)"
      ],
      "metadata": {
        "colab": {
          "base_uri": "https://localhost:8080/"
        },
        "id": "DDRvdLYxTqVP",
        "outputId": "de2cb30b-4419-4883-a157-79ce2168f47f"
      },
      "execution_count": null,
      "outputs": [
        {
          "output_type": "stream",
          "name": "stdout",
          "text": [
            "Sindh Bank\n",
            "Sindh Bank\n",
            "National Bank\n",
            "National Bank\n",
            "National Bank\n"
          ]
        }
      ]
    },
    {
      "cell_type": "markdown",
      "source": [
        "## **5. Static Variables & Static Methods**\n",
        "####Assignment:\n",
        "####Create a class MathUtils with a static method add(a, b) that returns the sum.\n",
        "####No class or instance variables should be used."
      ],
      "metadata": {
        "id": "RXOtOF3nTvI9"
      }
    },
    {
      "cell_type": "code",
      "source": [
        "class MathUtils:\n",
        "    @staticmethod\n",
        "    def add(a , b):\n",
        "        return a + b\n",
        "\n",
        "print(MathUtils.add(7 , 14))"
      ],
      "metadata": {
        "colab": {
          "base_uri": "https://localhost:8080/"
        },
        "id": "4DOHclhcUA5Q",
        "outputId": "0ececfc9-3d9f-4f19-cc2a-d71dd15a275c"
      },
      "execution_count": null,
      "outputs": [
        {
          "output_type": "stream",
          "name": "stdout",
          "text": [
            "21\n"
          ]
        }
      ]
    },
    {
      "cell_type": "markdown",
      "source": [],
      "metadata": {
        "id": "kajgYndYUEzm"
      }
    },
    {
      "cell_type": "markdown",
      "source": [
        "## **6. Constructors & Destructors**\n",
        "####Assignment:\n",
        "####Create a class Logger that prints a message when an object is created (constructor)\n",
        "####and another message when it is destroyed (destructor)."
      ],
      "metadata": {
        "id": "InPUTra4UGQn"
      }
    },
    {
      "cell_type": "code",
      "source": [
        "class Logger:\n",
        "    def __init__(self):\n",
        "        print(\"Logger Object Create.\")\n",
        "\n",
        "    def __del__(self):\n",
        "        print(\"Logger Object destroyed.\")\n",
        "\n",
        "log:Logger = Logger()\n",
        "del log"
      ],
      "metadata": {
        "colab": {
          "base_uri": "https://localhost:8080/"
        },
        "id": "DrltueuqUddW",
        "outputId": "1a238e49-d2e5-43b4-85f2-768017d5cd06"
      },
      "execution_count": null,
      "outputs": [
        {
          "output_type": "stream",
          "name": "stdout",
          "text": [
            "Logger Object Create.\n",
            "Logger Object destroyed.\n"
          ]
        }
      ]
    },
    {
      "cell_type": "markdown",
      "source": [
        "## **7. Access Modifiers: Public, Private, & Protected**\n",
        "#### Assignment:\n",
        "\n",
        "*   Create a class Employee with:\n",
        "*   a public variable name,\n",
        "\n",
        "*   a protected variable _salary, and\n",
        "*   a private variable __ssn.\n",
        "\n",
        "#### Try accessing all three variables from an object of the class and document what happens."
      ],
      "metadata": {
        "id": "0Ve_8bbxUlYn"
      }
    },
    {
      "cell_type": "code",
      "source": [
        "class Employee:\n",
        "    def __init__(self, name, salary, ssn):\n",
        "        self.name =  name\n",
        "        self._salary = salary\n",
        "        self.__ssn = ssn\n",
        "\n",
        "employee: Employee = Employee(\"Wasi Ahmed\", 20000, \"123-456-789\")\n",
        "print(employee.name)\n",
        "print(employee._salary)\n",
        "# print(employee.__ssn)\n",
        "print(employee._Employee__ssn)"
      ],
      "metadata": {
        "colab": {
          "base_uri": "https://localhost:8080/"
        },
        "id": "R1vA9ThYVRYG",
        "outputId": "3260b002-5742-403e-b76a-54b32f405313"
      },
      "execution_count": null,
      "outputs": [
        {
          "output_type": "stream",
          "name": "stdout",
          "text": [
            "Wasi Ahmed\n",
            "20000\n",
            "123-456-789\n"
          ]
        }
      ]
    },
    {
      "cell_type": "markdown",
      "source": [
        "## **8. The super() Function**\n",
        "#### Assignment:\n",
        "#### Create a class Person with a constructor that sets the name.\n",
        "####Inherit a class Teacher from it, add a subject field, and use super() to call the base class constructor."
      ],
      "metadata": {
        "id": "BnzJbjZvVW1N"
      }
    },
    {
      "cell_type": "code",
      "source": [
        "class Person:\n",
        "    def __init__(self, name):\n",
        "        self.name = name\n",
        "\n",
        "class Teacher(Person):\n",
        "    def __init__(self, name, subject):\n",
        "        super().__init__(name)\n",
        "        self.subject = subject\n",
        "\n",
        "teacher: Teacher = Teacher(\"Wasi Ahmed\", \"Computer Science\")\n",
        "print(f\"Name: {teacher.name}, \\nSubject: {teacher.subject}\")"
      ],
      "metadata": {
        "colab": {
          "base_uri": "https://localhost:8080/"
        },
        "id": "Z4-v0dXoVry-",
        "outputId": "c7d6a59a-1040-42c9-feb6-8b4246e46c68"
      },
      "execution_count": null,
      "outputs": [
        {
          "output_type": "stream",
          "name": "stdout",
          "text": [
            "Name: Wasi Ahmed, \n",
            "Subject: Computer Science\n"
          ]
        }
      ]
    },
    {
      "cell_type": "markdown",
      "source": [
        "## **9. Abstract Classes and Methods**\n",
        "#### Assignment:\n",
        "#### Use the abc module to create an abstract class Shape with an abstract method area().\n",
        "#### Inherit a class Rectangle that implements area()."
      ],
      "metadata": {
        "id": "D5lTQddmVxjr"
      }
    },
    {
      "cell_type": "code",
      "source": [
        "from abc import ABC, abstractmethod\n",
        "\n",
        "class Shape(ABC):\n",
        "    @abstractmethod\n",
        "    def area(self):\n",
        "        pass\n",
        "\n",
        "class Rectangle(Shape):\n",
        "    def __init__(self, height, widht):\n",
        "        self.height = height\n",
        "        self.widht = widht\n",
        "\n",
        "    def area(self):\n",
        "        return self.height * self.widht\n",
        "\n",
        "rectangle: Rectangle = Rectangle(5, 10)\n",
        "print(f\"Area of Rectangle: {rectangle.area()}\")"
      ],
      "metadata": {
        "colab": {
          "base_uri": "https://localhost:8080/"
        },
        "id": "wII00CyiWAkX",
        "outputId": "1d08fc1a-0a1f-4089-dc0f-28543c70cb66"
      },
      "execution_count": null,
      "outputs": [
        {
          "output_type": "stream",
          "name": "stdout",
          "text": [
            "Area of Rectangle: 50\n"
          ]
        }
      ]
    },
    {
      "cell_type": "markdown",
      "source": [
        "## **10. Instance Methods**\n",
        "#### Assignment:\n",
        "#### Create a class Dog with instance variables name and breed.\n",
        "#### Add an instance method bark() that prints a message including the dog's name."
      ],
      "metadata": {
        "id": "sWaLIjebWFt1"
      }
    },
    {
      "cell_type": "code",
      "source": [
        "class Dog:\n",
        "    def __init__(self, name, bread):\n",
        "        self.name = name\n",
        "        self.bread = bread\n",
        "\n",
        "    def bark(self):\n",
        "      return  (f\"{self.name} says wooofff!\")\n",
        "\n",
        "dog:Dog = Dog(\"Tommy\", \"Labrador\")\n",
        "print(dog.bark())"
      ],
      "metadata": {
        "colab": {
          "base_uri": "https://localhost:8080/"
        },
        "id": "Dcbxd8ywWURV",
        "outputId": "d462ad68-92fb-4a68-e62a-26ba5bda7d55"
      },
      "execution_count": null,
      "outputs": [
        {
          "output_type": "stream",
          "name": "stdout",
          "text": [
            "Tommy says wooofff!\n"
          ]
        }
      ]
    },
    {
      "cell_type": "markdown",
      "source": [
        "## **11. Class Methods**\n",
        "#### Assignment:\n",
        "####Create a class Book with a class variable total_books.\n",
        "####Add a class method increment_book_count() to increase the count when a new book is added"
      ],
      "metadata": {
        "id": "txZ4VO08WZIf"
      }
    },
    {
      "cell_type": "code",
      "source": [
        "class Book:\n",
        "  total_Book = 0\n",
        "  @classmethod\n",
        "  def increment_book_count(cls):\n",
        "    cls.total_Book += 1\n",
        "\n",
        "  def __init__(self, title, author):\n",
        "\n",
        "    self.title = title\n",
        "    self.author = author\n",
        "    Book.increment_book_count()\n",
        "\n",
        "book1: Book = Book(\"Python Programming\", \"Wasi Ahmed\")\n",
        "book2: Book = Book(\"JavaScript Programming\", \"Ahmed\")\n",
        "\n",
        "print(f\"Total Books : {Book.total_Book}\")"
      ],
      "metadata": {
        "colab": {
          "base_uri": "https://localhost:8080/"
        },
        "id": "Aih5_K6AWsVv",
        "outputId": "d6934d7e-1b35-4c5a-e38f-79520a76c2c0"
      },
      "execution_count": null,
      "outputs": [
        {
          "output_type": "stream",
          "name": "stdout",
          "text": [
            "Total Books : 2\n"
          ]
        }
      ]
    },
    {
      "cell_type": "markdown",
      "source": [
        "## **12. Static Methods**\n",
        "#### Assignment:\n",
        "####Create a class TemperatureConverter with a static method celsius_to_fahrenheit(c) that returns the Fahrenheit value.\n"
      ],
      "metadata": {
        "id": "xtD9NXsJWtAk"
      }
    },
    {
      "cell_type": "code",
      "source": [
        "class TemperatureConverter:\n",
        "    @staticmethod\n",
        "    def celsius_to_fahrenheit(c):\n",
        "      return (c * 9/5) + 32\n",
        "\n",
        "celsius = 25\n",
        "fahrenheit = TemperatureConverter.celsius_to_fahrenheit(celsius)\n",
        "print(f\"{celsius} °C is edual to {fahrenheit} °F\")"
      ],
      "metadata": {
        "colab": {
          "base_uri": "https://localhost:8080/"
        },
        "id": "34RgagfuW_J8",
        "outputId": "32ed12dc-1670-4159-b8a8-42aad5ee29f2"
      },
      "execution_count": null,
      "outputs": [
        {
          "output_type": "stream",
          "name": "stdout",
          "text": [
            "25 °C is edual to 77.0 °F\n"
          ]
        }
      ]
    },
    {
      "cell_type": "markdown",
      "source": [
        "## **13. Composition**\n",
        "#### Assignment:\n",
        "####Create a class Engine and a class Car. Use composition by passing an Engine object to the Car class during initialization. Access a method of the Engine class via the Car class.\n"
      ],
      "metadata": {
        "id": "b8rXGVZLW_kf"
      }
    },
    {
      "cell_type": "code",
      "source": [
        "class Engine:\n",
        "  def __init__(self, engin_type):\n",
        "    self.engin_type = engin_type\n",
        "\n",
        "  def start(self):\n",
        "    return f\"The {self.engin_type} Engine is Starting\"\n",
        "\n",
        "class Car:\n",
        "  def __init__(self, brand, engine):\n",
        "    self.brand = brand\n",
        "    self.engine = engine\n",
        "\n",
        "  def start_car(self):\n",
        "    return f\"{self.brand} Car is Starting. {self.engine.start()}\"\n",
        "\n",
        "engine = Engine(\"V8\")\n",
        "car = Car(\"Toyato\", engine)\n",
        "print(car.start_car())"
      ],
      "metadata": {
        "colab": {
          "base_uri": "https://localhost:8080/"
        },
        "id": "n7AezHcqXKnm",
        "outputId": "82133c99-c638-4a1c-9b55-aef54369dbe7"
      },
      "execution_count": null,
      "outputs": [
        {
          "output_type": "stream",
          "name": "stdout",
          "text": [
            "Toyato Car is Starting. The V8 Engine is Starting\n"
          ]
        }
      ]
    },
    {
      "cell_type": "markdown",
      "source": [
        "## **14. Aggregation**\n",
        "#### Assignment:\n",
        "#### Create a class Department and a class Employee. Use aggregation by having a Department object store a reference to an Employee object that exists independently of it.\n"
      ],
      "metadata": {
        "id": "dHCjKsRjXLSd"
      }
    },
    {
      "cell_type": "code",
      "source": [
        "class Employee:\n",
        "  def __init__(self, name, position):\n",
        "    self.name = name\n",
        "    self.position = position\n",
        "\n",
        "  def get_employee_info(self):\n",
        "    return f\"Employee Name: {self.name} | Position: {self.position}\"\n",
        "\n",
        "class Department:\n",
        "  def __init__(self, department_name, employee):\n",
        "    self.department_name = department_name\n",
        "    self.employee = employee\n",
        "\n",
        "  def get_department_info(self):\n",
        "    return f\"Department Name: {self.department_name} Employee |  {self.employee.get_employee_info()}\"\n",
        "\n",
        "employee1 = Employee(\"Wasi Ahmed\", \"Software Engineer\")\n",
        "Department1 = Department(\"IT\", employee1)\n",
        "print(Department1.get_department_info())"
      ],
      "metadata": {
        "colab": {
          "base_uri": "https://localhost:8080/"
        },
        "id": "BMIn6IEmXYK0",
        "outputId": "686ef90b-0c52-421d-b2c6-3fbf2df297a3"
      },
      "execution_count": null,
      "outputs": [
        {
          "output_type": "stream",
          "name": "stdout",
          "text": [
            "Department Name: IT Employee |  Employee Name: Wasi Ahmed | Position: Software Engineer\n"
          ]
        }
      ]
    },
    {
      "cell_type": "markdown",
      "source": [
        "## **15. Method Resolution Order (MRO) & Diamond Inheritance**\n",
        "#### Assignment:\n",
        "\n",
        "* Create four classes:\n",
        "\n",
        "* A with a method show(),\n",
        "\n",
        "* B and C that inherit from A and override show(),\n",
        "\n",
        "* D that inherits from both B and C.\n",
        "\n",
        "* Create an object of D and call show() to observe MRO.\n"
      ],
      "metadata": {
        "id": "QW6Gu91eXYsO"
      }
    },
    {
      "cell_type": "code",
      "source": [
        "class A:\n",
        "  def show(self):\n",
        "    print(\"Method from class A\")\n",
        "\n",
        "class B(A):\n",
        "  def show(self):\n",
        "    print(\"Method from class B\")\n",
        "\n",
        "class C(A):\n",
        "  def show(self):\n",
        "    print(\"Method from class C\")\n",
        "\n",
        "class D(B, C):\n",
        "  pass\n",
        "\n",
        "d = D()\n",
        "d.show()\n",
        "print(D.mro)"
      ],
      "metadata": {
        "id": "jWxg1M-2X-yG",
        "colab": {
          "base_uri": "https://localhost:8080/"
        },
        "outputId": "8c32e221-7c95-4c9a-edb5-0f3b89b0604f"
      },
      "execution_count": null,
      "outputs": [
        {
          "output_type": "stream",
          "name": "stdout",
          "text": [
            "Method from class B\n",
            "<built-in method mro of type object at 0x2459ff10>\n"
          ]
        }
      ]
    },
    {
      "cell_type": "markdown",
      "source": [
        "## **16. Function Decorators**\n",
        "#### Assignment:\n",
        "#### Write a decorator function log_function_call that prints \"Function is being called\" before a function executes. Apply it to a function say_hello().\n"
      ],
      "metadata": {
        "id": "VBQyV0sTX_uu"
      }
    },
    {
      "cell_type": "code",
      "source": [
        "def log_function_call(func):\n",
        "  def wrapper(*args, **kwargs):\n",
        "    print(\"Function is being called\")\n",
        "    return func(*args, **kwargs)\n",
        "  return wrapper\n",
        "\n",
        "@log_function_call\n",
        "def say_hello():\n",
        "  print(\"Wasi Ahmed\")\n",
        "\n",
        "@log_function_call\n",
        "def count():\n",
        "  for i in range(11):\n",
        "    print(f\"{2} X {i} = {2*i}\")\n",
        "\n",
        "say_hello()\n",
        "count()"
      ],
      "metadata": {
        "id": "ScoulrOEYLp7",
        "colab": {
          "base_uri": "https://localhost:8080/"
        },
        "outputId": "bb31d7d2-c8a0-45a2-8fb8-f736ecedc670"
      },
      "execution_count": null,
      "outputs": [
        {
          "output_type": "stream",
          "name": "stdout",
          "text": [
            "Function is being called\n",
            "Wasi Ahmed\n",
            "Function is being called\n",
            "2 X 0 = 0\n",
            "2 X 1 = 2\n",
            "2 X 2 = 4\n",
            "2 X 3 = 6\n",
            "2 X 4 = 8\n",
            "2 X 5 = 10\n",
            "2 X 6 = 12\n",
            "2 X 7 = 14\n",
            "2 X 8 = 16\n",
            "2 X 9 = 18\n"
          ]
        }
      ]
    },
    {
      "cell_type": "markdown",
      "source": [
        "## **17. Class Decorators**\n",
        "#### Assignment:\n",
        "#### Create a class decorator add_greeting that modifies a class to add a greet() method returning \"Hello from Decorator!\". Apply it to a class Person.\n"
      ],
      "metadata": {
        "id": "1hr-QgF0YL-I"
      }
    },
    {
      "cell_type": "code",
      "source": [
        "def add_greeting(cls):\n",
        "  def greet(self):\n",
        "      return \"Hello from Decorator!\"\n",
        "  cls.greet = greet\n",
        "  return cls\n",
        "\n",
        "@add_greeting\n",
        "class Person:\n",
        "  def __init__(self, name):\n",
        "    self.name = name\n",
        "\n",
        "  def introduction(self):\n",
        "        return f\"Hy, I'm {self.name}\"\n",
        "\n",
        "person = Person(\"Wasi Ahmed\")\n",
        "print(person.greet())\n",
        "print(person.introduction())\n"
      ],
      "metadata": {
        "id": "PloxssEAYZvj",
        "colab": {
          "base_uri": "https://localhost:8080/"
        },
        "outputId": "603e0f4e-4673-421d-b9c4-9ec1cdec6713"
      },
      "execution_count": null,
      "outputs": [
        {
          "output_type": "stream",
          "name": "stdout",
          "text": [
            "Hello from Decorator!\n",
            "Hy, I'm Wasi Ahmed\n"
          ]
        }
      ]
    },
    {
      "cell_type": "markdown",
      "source": [
        "## **18. Property Decorators: @property, @setter, & @deleter**\n",
        "#### Assignment:\n",
        "#### Create a class Product with a private attribute _price. Use @property to get the price, @price.setter to update it, and @price.deleter to delete it.\n"
      ],
      "metadata": {
        "id": "ESltYDARYaer"
      }
    },
    {
      "cell_type": "code",
      "source": [
        "class Product:\n",
        "    def __init__(self, name, price):\n",
        "        self.name = name\n",
        "        self._price = price\n",
        "\n",
        "    @property\n",
        "    def price(self):\n",
        "        return self._price\n",
        "\n",
        "    @price.setter\n",
        "    def price(self, value):\n",
        "        if value < 0:\n",
        "            print(\"Price Cannot be negative\")\n",
        "        else:\n",
        "            self._price = value\n",
        "\n",
        "    @price.deleter\n",
        "    def price(self):\n",
        "        print(f\"Deleting the Price of {self.name}\")\n",
        "        del self._price\n",
        "\n",
        "\n",
        "product = Product(\"Laptop\", 18000)\n",
        "\n",
        "print(product.price)\n",
        "\n",
        "product.price = 20000\n",
        "print(product.price)\n",
        "\n",
        "product.price = -5000\n",
        "del product.price\n"
      ],
      "metadata": {
        "id": "FRZkvmgtYrOc",
        "colab": {
          "base_uri": "https://localhost:8080/"
        },
        "outputId": "a010a291-2688-4378-9fbd-0a1f5c7d564c"
      },
      "execution_count": null,
      "outputs": [
        {
          "output_type": "stream",
          "name": "stdout",
          "text": [
            "18000\n",
            "20000\n",
            "Price Cannot be negative\n",
            "Deleting the Price of Laptop\n"
          ]
        }
      ]
    },
    {
      "cell_type": "markdown",
      "source": [
        "\n",
        "## **19. callable() & __call__()**\n",
        "#### Assignment:\n",
        "#### Create a class Multiplier with an __init__() to set a factor. Define a __call__() method that multiplies an input by the factor. Test it with callable() and by calling the object like a function.\n"
      ],
      "metadata": {
        "id": "uLIqmdgUYsPU"
      }
    },
    {
      "cell_type": "code",
      "source": [
        "class Multiplier:\n",
        "  def __init__(self, factor):\n",
        "    self.factor = factor\n",
        "\n",
        "  def __call__(self, number):\n",
        "    return number * self.factor\n",
        "\n",
        "multiplier = Multiplier(5)\n",
        "print(callable(multiplier))\n",
        "\n",
        "result = multiplier(10)\n",
        "print(result)"
      ],
      "metadata": {
        "id": "0FF8LhfiY_GE",
        "colab": {
          "base_uri": "https://localhost:8080/"
        },
        "outputId": "a5bca641-a08d-4a28-f282-8fb708a45af3"
      },
      "execution_count": null,
      "outputs": [
        {
          "output_type": "stream",
          "name": "stdout",
          "text": [
            "True\n",
            "50\n"
          ]
        }
      ]
    },
    {
      "cell_type": "markdown",
      "source": [
        "## **20. Creating a Custom Exception**\n",
        "#### Assignment:\n",
        "#### Create a custom exception InvalidAgeError. Write a function check_age(age) that raises this exception if age < 18. Handle it with try...except.\n"
      ],
      "metadata": {
        "id": "xouB_toDY8sf"
      }
    },
    {
      "cell_type": "code",
      "source": [
        "class InvalidAgeError(Exception):\n",
        "    def __init__(self, message=\"Age must be 18 or older\"):\n",
        "        self.message = message\n",
        "        super().__init__(self.message)\n",
        "\n",
        "def check_age(age):\n",
        "    if age < 18:\n",
        "        raise InvalidAgeError(f\"Invalid Age: {age}. You must be 18 or older.\")\n",
        "    else:\n",
        "        print(f\"Valid Age: {age}\")\n",
        "\n",
        "try:\n",
        "    age = int(input(\"Enter Your Age: \"))\n",
        "    check_age(age)\n",
        "except InvalidAgeError as e:\n",
        "    print(f\"Error: {e}\")\n",
        "except ValueError:\n",
        "    print(\"Please enter a valid integer\")"
      ],
      "metadata": {
        "id": "4hw9UZJvY8Yz",
        "colab": {
          "base_uri": "https://localhost:8080/"
        },
        "outputId": "891b6d1c-c094-41a9-8a68-9c99c2bc8fa3"
      },
      "execution_count": null,
      "outputs": [
        {
          "output_type": "stream",
          "name": "stdout",
          "text": [
            "Enter Your Age: 19\n",
            "Valid Age: 19\n"
          ]
        }
      ]
    },
    {
      "cell_type": "markdown",
      "source": [
        "## **21. Make a Custom Class Iterable**\n",
        "#### Assignment:\n",
        "#### Create a class Countdown that takes a start number. Implement __iter__() and __next__() to make the object iterable in a for-loop, counting down to 0.\n"
      ],
      "metadata": {
        "id": "mwICFznPZNqI"
      }
    },
    {
      "cell_type": "code",
      "source": [
        "class Countdown:\n",
        "    def __init__(self, start):\n",
        "        self.start = start\n",
        "        self.current = start  # initialize current here\n",
        "\n",
        "    def __iter__(self):\n",
        "        return self\n",
        "\n",
        "    def __next__(self):\n",
        "        if self.current < 0:\n",
        "            raise StopIteration\n",
        "        self.current -= 1\n",
        "        return self.current + 1\n",
        "\n",
        "# Example usage\n",
        "countdown = Countdown(10)\n",
        "for number in countdown:\n",
        "    print(number)\n"
      ],
      "metadata": {
        "id": "30qD3jo7ZasT",
        "colab": {
          "base_uri": "https://localhost:8080/"
        },
        "outputId": "f5568c71-2f0d-4934-8744-062defe7c062"
      },
      "execution_count": null,
      "outputs": [
        {
          "output_type": "stream",
          "name": "stdout",
          "text": [
            "10\n",
            "9\n",
            "8\n",
            "7\n",
            "6\n",
            "5\n",
            "4\n",
            "3\n",
            "2\n",
            "1\n",
            "0\n"
          ]
        }
      ]
    }
  ]
}