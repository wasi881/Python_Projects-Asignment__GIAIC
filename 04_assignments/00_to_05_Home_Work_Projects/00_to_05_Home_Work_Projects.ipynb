{
  "cells": [
    {
      "cell_type": "markdown",
      "source": [
        "# <font size=10:>**Assignment 04**</font>"
      ],
      "metadata": {
        "id": "u7ZjTueodRSU"
      }
    },
    {
      "cell_type": "markdown",
      "metadata": {
        "id": "sGXT1R6cxMH8"
      },
      "source": [
        "## <font>**00 to 05 Home Work Projects**</font>\n",
        "\n",
        "---\n",
        "\n",
        ":"
      ]
    },
    {
      "cell_type": "markdown",
      "metadata": {
        "id": "xONXgOF6xMH9"
      },
      "source": [
        "### **00 Intro Python**\n",
        "\n",
        "\n",
        "---\n",
        "\n"
      ]
    },
    {
      "cell_type": "markdown",
      "metadata": {
        "id": "GnO2aCcZxMIE"
      },
      "source": [
        "#### 01 Add  Two Numbers"
      ]
    },
    {
      "cell_type": "code",
      "execution_count": null,
      "metadata": {
        "colab": {
          "base_uri": "https://localhost:8080/"
        },
        "id": "9FLy-EycxMIF",
        "outputId": "da5b82e7-abc4-4b5f-ed4e-b6982475ee47"
      },
      "outputs": [
        {
          "name": "stdout",
          "output_type": "stream",
          "text": [
            "This Program adds two numbers.\n",
            "Enter First Numbe:2\n",
            "Enter Seconds Number:2\n",
            "This total sum of 2 and 2 is 4.\n"
          ]
        }
      ],
      "source": [
        "def add():\n",
        "  print(\"This Program adds two numbers.\")\n",
        "  num1 : int = int(input(\"Enter First Numbe:\"))\n",
        "  num2 : int = int(input(\"Enter Seconds Number:\"))\n",
        "  total : int = num1 + num2\n",
        "  print(f\"This total sum of {str(num1)} and {str(num2)} is {str(total)}.\")\n",
        "\n",
        "if __name__ == \"__main__\":\n",
        "  add()"
      ]
    },
    {
      "cell_type": "markdown",
      "source": [
        "\n",
        "\n",
        "---\n",
        "\n"
      ],
      "metadata": {
        "id": "Dd8Mf472a5m3"
      }
    },
    {
      "cell_type": "markdown",
      "metadata": {
        "id": "IDb1GZtsxMIJ"
      },
      "source": [
        "#### 02 Argeements Bot"
      ]
    },
    {
      "cell_type": "code",
      "execution_count": null,
      "metadata": {
        "colab": {
          "base_uri": "https://localhost:8080/"
        },
        "id": "1sMV4oY9xMIQ",
        "outputId": "da4d0e87-7197-4d72-b045-f60c78f21843"
      },
      "outputs": [
        {
          "name": "stdout",
          "output_type": "stream",
          "text": [
            "What's your favorite animal?loin\n",
            "My favorite animal is also loin!\n"
          ]
        }
      ],
      "source": [
        "def argeements():\n",
        "  Questin : str = input(\"What's your favorite animal?\")\n",
        "  print(f\"My favorite animal is also {Questin}!\")\n",
        "if __name__ == \"__main__\":\n",
        "   argeements()"
      ]
    },
    {
      "cell_type": "markdown",
      "metadata": {
        "id": "sPQI7-kcxMIR"
      },
      "source": [
        "#### 03 Fahrenheit To Celsius"
      ]
    },
    {
      "cell_type": "code",
      "execution_count": null,
      "metadata": {
        "colab": {
          "base_uri": "https://localhost:8080/"
        },
        "id": "A5sDA-A1xMIS",
        "outputId": "a346f653-f9cc-4efc-ec69-fa13b6229edc"
      },
      "outputs": [
        {
          "name": "stdout",
          "output_type": "stream",
          "text": [
            "This Program for Convert Fahrenheit to Celsius\n",
            "Enter you Fahrenheit Degree32.4\n",
            "Tempareture 32.4 F = 0.22222222222222143 C\n"
          ]
        }
      ],
      "source": [
        "def fahrenheit():\n",
        "  print(\"This Program for Convert Fahrenheit to Celsius\")\n",
        "  fehrenheit : float = float(input(\"Enter you Fahrenheit Degree\"))\n",
        "  Calsius = (fehrenheit - 32) * 5.0/9.0\n",
        "  print(f\"Tempareture {fehrenheit} F = {Calsius} C\")\n",
        "\n",
        "if __name__ == \"__main__\":\n",
        "   fahrenheit()"
      ]
    },
    {
      "cell_type": "markdown",
      "metadata": {
        "id": "bL6xHnlNxMIW"
      },
      "source": [
        "#### 04 How Old Are They"
      ]
    },
    {
      "cell_type": "code",
      "execution_count": null,
      "metadata": {
        "colab": {
          "base_uri": "https://localhost:8080/"
        },
        "id": "Ud2kFa0mxMIX",
        "outputId": "f89a69fd-4ea0-4e76-e8f0-9dd506a2ad55"
      },
      "outputs": [
        {
          "name": "stdout",
          "output_type": "stream",
          "text": [
            "Anton is 21\n",
            "Beth  is 27\n",
            "Chen  is 47\n",
            "Drew  is 68\n",
            "Ethan is 47\n"
          ]
        }
      ],
      "source": [
        "def age():\n",
        "    anton : int  = 21\n",
        "    beth  : int  = 6 + anton\n",
        "    chen  : int  = 20 + beth\n",
        "    drew  : int  = chen + anton\n",
        "    ethan : int  = chen\n",
        "\n",
        "    print(\"Anton is \" + str(anton))\n",
        "    print(\"Beth  is \" + str(beth))\n",
        "    print(\"Chen  is \" + str(chen))\n",
        "    print(\"Drew  is \" + str(drew))\n",
        "    print(\"Ethan is \" + str(ethan))\n",
        "if __name__ == \"__main__\":\n",
        "  age()"
      ]
    },
    {
      "cell_type": "markdown",
      "metadata": {
        "id": "pPrlbmHoP9JB"
      },
      "source": [
        "#### 05 Triangle Perimeter"
      ]
    },
    {
      "cell_type": "code",
      "execution_count": null,
      "metadata": {
        "colab": {
          "base_uri": "https://localhost:8080/"
        },
        "id": "0hDkMOHDQZwr",
        "outputId": "c72f14fb-fff2-4a4b-e4dd-93fb35cc22a0"
      },
      "outputs": [
        {
          "name": "stdout",
          "output_type": "stream",
          "text": [
            "What is the lenght of side 1?23\n",
            "What is the lenght of side 2?34\n",
            "What is the lenght of side 3?4.4\n",
            "The perimeter triangle is 61.4\n"
          ]
        }
      ],
      "source": [
        "def triangle():\n",
        "    side1 : float = float(input(\"What is the lenght of side 1?\"))\n",
        "    side2 : float = float(input(\"What is the lenght of side 2?\"))\n",
        "    side3 : float = float(input(\"What is the lenght of side 3?\"))\n",
        "\n",
        "    print(f\"The perimeter triangle is {str(side1 + side2 + side3)}\")\n",
        "if __name__ == \"__main__\":\n",
        "   triangle()"
      ]
    },
    {
      "cell_type": "markdown",
      "metadata": {
        "id": "p-I9OMEuTh0p"
      },
      "source": [
        "#### 06 Square Number"
      ]
    },
    {
      "cell_type": "code",
      "execution_count": null,
      "metadata": {
        "colab": {
          "base_uri": "https://localhost:8080/"
        },
        "id": "lb5e-DXDTsTP",
        "outputId": "0949a37c-242b-4ff6-e8b6-8fe92a905516"
      },
      "outputs": [
        {
          "name": "stdout",
          "output_type": "stream",
          "text": [
            "Type a number to see its square:4\n",
            "The Square of 4.0 is 16.0\n"
          ]
        }
      ],
      "source": [
        "def square():\n",
        "  square: float = float(input(\"Type a number to see its square:\"))\n",
        "  print(f\"The Square of {str(square)} is {str(square ** 2)}\")\n",
        "\n",
        "if __name__ == \"__main__\":\n",
        "  square()"
      ]
    },
    {
      "cell_type": "markdown",
      "metadata": {
        "id": "B7d90tJpxMIZ"
      },
      "source": [
        "****"
      ]
    },
    {
      "cell_type": "markdown",
      "metadata": {
        "id": "wEBcl8ovZoJj"
      },
      "source": [
        "### **01 Expresssions**\n",
        "\n",
        "---\n",
        "\n"
      ]
    },
    {
      "cell_type": "markdown",
      "metadata": {
        "id": "gxeXE7-PZzTy"
      },
      "source": [
        "#### 01 Dicesimulator"
      ]
    },
    {
      "cell_type": "code",
      "execution_count": null,
      "metadata": {
        "colab": {
          "background_save": true,
          "base_uri": "https://localhost:8080/"
        },
        "id": "dHE-EYp83-on",
        "outputId": "49acd00a-09b4-4aec-8b45-70e50d2dd2aa"
      },
      "outputs": [
        {
          "name": "stdout",
          "output_type": "stream",
          "text": [
            "die1 in main() starts as: 10\n",
            "Total of two dice: 8\n",
            "Total of two dice: 7\n",
            "Total of two dice: 8\n",
            "die1 in main() is: 10\n"
          ]
        }
      ],
      "source": [
        "import random as rd\n",
        "def roll_diec():\n",
        "    \"\"\"Simulates rolling two dice and prints their total\"\"\"\n",
        "    die1: int = rd.randint(1, 6)\n",
        "    die2: int = rd.randint(1, 6)\n",
        "    total: int = die1 + die2\n",
        "    print(\"Total of two dice:\", total)\n",
        "\n",
        "def main():\n",
        "    die1: int = 10\n",
        "    print(\"die1 in main() starts as: \" + str(die1))\n",
        "    roll_diec()\n",
        "    roll_diec()\n",
        "    roll_diec()\n",
        "    print(\"die1 in main() is: \" + str(die1))\n",
        "\n",
        "if __name__ == '__main__':\n",
        "    main()\n"
      ]
    },
    {
      "cell_type": "markdown",
      "metadata": {
        "id": "Rdk1DfpafNbm"
      },
      "source": [
        "#### 02 E = MC 2\n",
        "\n"
      ]
    },
    {
      "cell_type": "code",
      "execution_count": null,
      "metadata": {
        "colab": {
          "background_save": true
        },
        "id": "u67OfCnQgGGS",
        "outputId": "b5d323c2-a0ef-4734-d288-1346563b2d8e"
      },
      "outputs": [
        {
          "name": "stdout",
          "output_type": "stream",
          "text": [
            "e = m * C^2...\n",
            "m = 67.0 kg\n",
            "C = 299792458 m/s\n",
            "6.021659697536678e+18 joules of energy!\n"
          ]
        }
      ],
      "source": [
        "\n",
        "def energy():\n",
        "    C: int = 299792458\n",
        "    mass: float = float(input(\"Enter kilos of mass: \"))\n",
        "    energy: float = mass * (C ** 2)\n",
        "\n",
        "    print(\"e = m * C^2...\")\n",
        "    print(\"m = \" + str(mass) + \" kg\")\n",
        "    print(\"C = \" + str(C) + \" m/s\")\n",
        "\n",
        "    print(str(energy) + \" joules of energy!\")\n",
        "\n",
        "\n",
        "\n",
        "if __name__ == '__main__':\n",
        "    energy()"
      ]
    },
    {
      "cell_type": "markdown",
      "source": [
        "#### 03 Feet To Inches"
      ],
      "metadata": {
        "id": "0aAv1AqN7iWY"
      }
    },
    {
      "source": [
        "def feet_to_inches():\n",
        "    inches_per_foot = 12\n",
        "    feet = float(input(\"Enter feet: \"))\n",
        "    total_inches = feet * inches_per_foot\n",
        "    print(f\"{feet} feet is equal to {total_inches} inches.\")\n",
        "\n",
        "if __name__ == \"__main__\":\n",
        "    feet_to_inches()"
      ],
      "cell_type": "code",
      "metadata": {
        "colab": {
          "base_uri": "https://localhost:8080/"
        },
        "id": "A5IdiaKH_Lvq",
        "outputId": "f336e6ad-054d-4758-c382-04174c6a008a"
      },
      "execution_count": null,
      "outputs": [
        {
          "output_type": "stream",
          "name": "stdout",
          "text": [
            "Enter feet: 56\n",
            "56.0 feet is equal to 672.0 inches.\n"
          ]
        }
      ]
    },
    {
      "cell_type": "markdown",
      "source": [
        "#### 04 Pythagorean Theorem"
      ],
      "metadata": {
        "id": "sxuuaJy1_gSH"
      }
    },
    {
      "cell_type": "code",
      "source": [
        "import math\n",
        "\n",
        "def main():\n",
        "\n",
        "    ab: float = float(input(\"Enter the length of AB: \"))\n",
        "    ac: float = float(input(\"Enter the length of AC: \"))\n",
        "\n",
        "    bc: float = math.sqrt(ab**2 + ac**2)\n",
        "    print(\"The length of BC (the hypotenuse) is: \" + str(bc))\n",
        "\n",
        "if __name__ == '__main__':\n",
        "    main()\n"
      ],
      "metadata": {
        "id": "OMsZH4PV_r4E"
      },
      "execution_count": null,
      "outputs": []
    },
    {
      "cell_type": "markdown",
      "source": [
        "#### 05 Remainder Divisi"
      ],
      "metadata": {
        "id": "Zu34rXAoBaOu"
      }
    },
    {
      "cell_type": "code",
      "source": [
        "def remainder():\n",
        "\n",
        "    dividend: int = int(input(\"Please enter an integer to be divided: \"))\n",
        "    divisor: int = int(input(\"Please enter an integer to divide by: \"))\n",
        "\n",
        "    quotient: int = dividend // divisor\n",
        "    remainder: int = dividend % divisor\n",
        "\n",
        "    print(\"The result of this division is \" + str(quotient) + \" with a remainder of \" + str(remainder))\n",
        "\n",
        "if __name__ == \"__main__\":\n",
        "    remainder()"
      ],
      "metadata": {
        "colab": {
          "base_uri": "https://localhost:8080/"
        },
        "id": "aWn2ExAYBthT",
        "outputId": "d392c1ac-b4b3-4bb6-801a-aa1d38c87f63"
      },
      "execution_count": null,
      "outputs": [
        {
          "output_type": "stream",
          "name": "stdout",
          "text": [
            "Please enter an integer to be divided: 12\n",
            "Please enter an integer to divide by: 9\n",
            "The result of this division is 1 with a remainder of 3\n"
          ]
        }
      ]
    },
    {
      "cell_type": "markdown",
      "source": [
        "#### 06 Roll Diec\n"
      ],
      "metadata": {
        "id": "NNOw7h15CXAM"
      }
    },
    {
      "cell_type": "code",
      "source": [
        "import random\n",
        "def main():\n",
        "\n",
        "    NUM_SIDES: int = 6\n",
        "    die1: int = random.randint(1, NUM_SIDES)\n",
        "    die2: int = random.randint(1, NUM_SIDES)\n",
        "    total: int = die1 + die2\n",
        "\n",
        "    print(\"Dice have\", NUM_SIDES, \"sides each.\")\n",
        "    print(\"First die:\", die1)\n",
        "    print(\"Second die:\", die2)\n",
        "    print(\"Total of two dice:\", total)\n",
        "\n",
        "\n",
        "if __name__ == '__main__':\n",
        "    main()"
      ],
      "metadata": {
        "colab": {
          "base_uri": "https://localhost:8080/"
        },
        "id": "drddOx9BCzGJ",
        "outputId": "e0efb2d4-f5d6-4123-abf5-5baa1af31545"
      },
      "execution_count": null,
      "outputs": [
        {
          "output_type": "stream",
          "name": "stdout",
          "text": [
            "Dice have 6 sides each.\n",
            "First die: 3\n",
            "Second die: 5\n",
            "Total of two dice: 8\n"
          ]
        }
      ]
    },
    {
      "cell_type": "markdown",
      "source": [
        "#### 07 Secondes To Year"
      ],
      "metadata": {
        "id": "ZtnDV7CUDNdY"
      }
    },
    {
      "cell_type": "code",
      "source": [
        "DAYS_PER_YEAR: int = 365\n",
        "HOURS_PER_DAY: int = 24\n",
        "MIN_PER_HOUR: int = 60\n",
        "SEC_PER_MIN: int = 60\n",
        "\n",
        "def main():\n",
        "    print(\"There are \" + str(DAYS_PER_YEAR * HOURS_PER_DAY * MIN_PER_HOUR * SEC_PER_MIN) + \" seconds in a year!\")\n",
        "\n",
        "if __name__ == '__main__':\n",
        "    main()"
      ],
      "metadata": {
        "colab": {
          "base_uri": "https://localhost:8080/"
        },
        "id": "gMcmqIfmDgYR",
        "outputId": "69996819-ce9c-4ec4-87f4-d35673517436"
      },
      "execution_count": null,
      "outputs": [
        {
          "output_type": "stream",
          "name": "stdout",
          "text": [
            "There are 31536000 seconds in a year!\n"
          ]
        }
      ]
    },
    {
      "cell_type": "markdown",
      "source": [
        "#### 08 Tiny Mid"
      ],
      "metadata": {
        "id": "rsvMpa3NDwRR"
      }
    },
    {
      "cell_type": "code",
      "source": [
        "SENTENCE_START: str = \"Panaversity is fun. I learned to program and used Python to make my \"\n",
        "\n",
        "\n",
        "def main():\n",
        "    adjective: str = input(\"Please type an adjective and press enter. \")\n",
        "    noun: str = input(\"Please type a noun and press enter. \")\n",
        "    verb: str = input(\"Please type a verb and press enter. \")\n",
        "\n",
        "    print(SENTENCE_START + adjective + \" \" + noun + \" \" + verb + \"!\")\n",
        "\n",
        "\n",
        "if __name__ == '__main__':\n",
        "    main()"
      ],
      "metadata": {
        "colab": {
          "base_uri": "https://localhost:8080/"
        },
        "id": "QuRs-cC0EDqX",
        "outputId": "776d073a-a646-428b-e862-8ea88edebe48"
      },
      "execution_count": null,
      "outputs": [
        {
          "output_type": "stream",
          "name": "stdout",
          "text": [
            "Please type an adjective and press enter. hello\n",
            "Please type a noun and press enter. karachi\n",
            "Please type a verb and press enter. to\n",
            "Panaversity is fun. I learned to program and used Python to make my hello karachi to!\n"
          ]
        }
      ]
    },
    {
      "cell_type": "markdown",
      "metadata": {
        "id": "Ji0LHle0EOW0"
      },
      "source": [
        "### **02 Lists**\n",
        "\n",
        "---\n",
        "\n"
      ]
    },
    {
      "cell_type": "markdown",
      "source": [
        "#### 01 Add Many Number"
      ],
      "metadata": {
        "id": "x9w_xhHsFGuM"
      }
    },
    {
      "cell_type": "code",
      "source": [
        "def add_many(number)-> int:\n",
        "  total : int = 0\n",
        "  for numbers in number:\n",
        "      total +=numbers\n",
        "  return total\n",
        "\n",
        "def main():\n",
        "    numbers: list[int] = [1,2,3,4,5]\n",
        "    sum: int = add_many(numbers)\n",
        "    print(sum)\n",
        "\n",
        "if __name__ == \"__main__\":\n",
        "    main()"
      ],
      "metadata": {
        "colab": {
          "base_uri": "https://localhost:8080/"
        },
        "id": "Txku-1QNFXOQ",
        "outputId": "51adbed3-2521-4140-9f1f-bec1d3ab120a"
      },
      "execution_count": null,
      "outputs": [
        {
          "output_type": "stream",
          "name": "stdout",
          "text": [
            "15\n"
          ]
        }
      ]
    },
    {
      "cell_type": "markdown",
      "source": [
        "#### 02 Double List"
      ],
      "metadata": {
        "id": "vLsaBa9BHW38"
      }
    },
    {
      "cell_type": "code",
      "source": [
        "def double_list():\n",
        "   numbers : list[int] = [1,2,3,4]\n",
        "   for i in range(len(numbers)):\n",
        "       elem_index = numbers[i]\n",
        "       numbers[i] = elem_index * 2\n",
        "   print(numbers)\n",
        "\n",
        "if __name__ == \"__main__\":\n",
        "   double_list()"
      ],
      "metadata": {
        "colab": {
          "base_uri": "https://localhost:8080/"
        },
        "id": "-kR_ryp0Hsu1",
        "outputId": "9ee4ede8-2379-47a4-d559-f8e4fc79db7c"
      },
      "execution_count": null,
      "outputs": [
        {
          "output_type": "stream",
          "name": "stdout",
          "text": [
            "[2, 4, 6, 8]\n"
          ]
        }
      ]
    },
    {
      "cell_type": "markdown",
      "source": [
        "#### 03 Eerase Canvas"
      ],
      "metadata": {
        "id": "b_H2iJxdJJWv"
      }
    },
    {
      "cell_type": "code",
      "source": [
        "import graphics from Canvas\n",
        "import time\n",
        "\n",
        "CANVAS_WIDTH : int = 400\n",
        "CANVAS_HEIGHT : int = 400\n",
        "\n",
        "CELL_SIZE : int = 40\n",
        "ERASER_SIZE : int = 20\n",
        "\n",
        "def erase_objects(canvas, eraser):\n",
        "    \"\"\"Erase objects in contact with the eraser\"\"\"\n",
        "    mouse_x = canvas.get_mouse_x()\n",
        "    mouse_y = canvas.get_mouse_y()\n",
        "\n",
        "    left_x = mouse_x\n",
        "    top_y = mouse_y\n",
        "    right_x = left_x + ERASER_SIZE\n",
        "    bottom_y = top_y + ERASER_SIZE\n",
        "\n",
        "    overlapping_objects = canvas.find_overlapping(left_x, top_y, right_x, bottom_y)\n",
        "\n",
        "    for overlapping_object in overlapping_objects:\n",
        "        if overlapping_object != eraser:\n",
        "            canvas.set_color(overlapping_object, 'white')\n",
        "\n",
        "\n",
        "def main():\n",
        "    canvas = Canvas(CANVAS_WIDTH, CANVAS_HEIGHT)\n",
        "\n",
        "    num_rows = CANVAS_HEIGHT // CELL_SIZE\n",
        "    num_cols = CANVAS_WIDTH // CELL_SIZE\n",
        "\n",
        "    for row in range(num_rows):\n",
        "        for col in range(num_cols):\n",
        "            left_x = col * CELL_SIZE\n",
        "            top_y = row * CELL_SIZE\n",
        "            right_x = left_x + CELL_SIZE\n",
        "            bottom_y = top_y + CELL_SIZE\n",
        "\n",
        "            cell = canvas.create_rectangle(left_x, top_y, right_x, bottom_y, 'blue')\n",
        "\n",
        "\n",
        "    canvas.wait_for_click()\n",
        "\n",
        "    last_click_x, last_click_y = canvas.get_last_click()\n",
        "\n",
        "    eraser = canvas.create_rectangle(\n",
        "        last_click_x,\n",
        "        last_click_y,\n",
        "        last_click_x + ERASER_SIZE,\n",
        "        last_click_y + ERASER_SIZE,\n",
        "        'pink'\n",
        "    )\n",
        "\n",
        "    while True:\n",
        "        mouse_x = canvas.get_mouse_x()\n",
        "        mouse_y = canvas.get_mouse_y()\n",
        "        canvas.moveto(eraser, mouse_x, mouse_y)\n",
        "\n",
        "        erase_objects(canvas, eraser)\n",
        "\n",
        "        time.sleep(0.05)\n",
        "\n",
        "\n",
        "if __name__ == '__main__':\n",
        "    main()\n"
      ],
      "metadata": {
        "id": "4-egC2TOJZeL"
      },
      "execution_count": null,
      "outputs": []
    },
    {
      "cell_type": "markdown",
      "source": [
        "#### 04 Flowing With Data Structures"
      ],
      "metadata": {
        "id": "uYFcIAmUHQm9"
      }
    },
    {
      "cell_type": "code",
      "source": [
        "def add_three_copies(my_list, data):\n",
        "  for i in range(3):\n",
        "    my_list.append(data)\n",
        "\n",
        "def main():\n",
        "  message = input(\"Enter a message tp copy: \")\n",
        "  my_list = []\n",
        "  print(\"List before\", my_list)\n",
        "  add_three_copies(my_list, message)\n",
        "  print(\"List after\", my_list)\n",
        "\n",
        "if __name__ == \"__main__\":\n",
        "  main()"
      ],
      "metadata": {
        "colab": {
          "base_uri": "https://localhost:8080/"
        },
        "id": "hqJ5efnAHzGa",
        "outputId": "00ec918d-a9b2-4239-9a2a-5dd6dd58b5f3"
      },
      "execution_count": null,
      "outputs": [
        {
          "output_type": "stream",
          "name": "stdout",
          "text": [
            "Enter a message tp copy: wasi ahmd\n",
            "List before []\n",
            "List after ['wasi ahmd', 'wasi ahmd', 'wasi ahmd']\n"
          ]
        }
      ]
    },
    {
      "cell_type": "markdown",
      "source": [
        "#### 05 Get First Element"
      ],
      "metadata": {
        "id": "H8FeTobNKkcp"
      }
    },
    {
      "cell_type": "code",
      "source": [
        "def get_first_element(lst):\n",
        "\n",
        "    print(lst[0])\n",
        "\n",
        "def get_lst():\n",
        "\n",
        "    lst = []\n",
        "    elem: str = input(\"Please enter an element of the list or press enter to stop. \")\n",
        "    while elem != \"\":\n",
        "        lst.append(elem)\n",
        "        elem = input(\"Please enter an element of the list or press enter to stop. \")\n",
        "    return lst\n",
        "\n",
        "def main():\n",
        "    lst = get_lst()\n",
        "    get_first_element(lst)\n",
        "\n",
        "\n",
        "if __name__ == '__main__':\n",
        "    main()"
      ],
      "metadata": {
        "colab": {
          "base_uri": "https://localhost:8080/"
        },
        "id": "BlgVw4SuKsjj",
        "outputId": "f5b87707-bc87-44a8-9412-87286d7a9cb4"
      },
      "execution_count": null,
      "outputs": [
        {
          "output_type": "stream",
          "name": "stdout",
          "text": [
            "Please enter an element of the list or press enter to stop. 29\n",
            "Please enter an element of the list or press enter to stop. 56\n",
            "Please enter an element of the list or press enter to stop. 56\n",
            "Please enter an element of the list or press enter to stop. 45\n",
            "Please enter an element of the list or press enter to stop. 7\n",
            "Please enter an element of the list or press enter to stop. 8\n",
            "Please enter an element of the list or press enter to stop. 9\n",
            "Please enter an element of the list or press enter to stop. 0\n",
            "Please enter an element of the list or press enter to stop. \n",
            "29\n"
          ]
        }
      ]
    },
    {
      "cell_type": "markdown",
      "source": [
        "#### 06 Get Last Element"
      ],
      "metadata": {
        "id": "fJq_lynIL2CU"
      }
    },
    {
      "cell_type": "code",
      "source": [
        "list = [1,2,3,4,5,6,7,8,9,10]\n",
        "\n",
        "print(list[len(list) -1])"
      ],
      "metadata": {
        "colab": {
          "base_uri": "https://localhost:8080/"
        },
        "id": "xIOX5qxdMs71",
        "outputId": "6bfa324d-3b95-42f4-d953-09fa543238b9"
      },
      "execution_count": null,
      "outputs": [
        {
          "output_type": "stream",
          "name": "stdout",
          "text": [
            "10\n"
          ]
        }
      ]
    },
    {
      "cell_type": "markdown",
      "source": [
        "#### 07 Get List"
      ],
      "metadata": {
        "id": "uS6LOKCOM_VV"
      }
    },
    {
      "cell_type": "code",
      "source": [
        "def get_list():\n",
        "  list = []\n",
        "  value  = input(\"Enter a value :\")\n",
        "  while value:\n",
        "        list.append(value)\n",
        "        value = input(\"Entera a value :\")\n",
        "        print(\"Here's the List\", list)\n",
        "\n",
        "if __name__ == \"__main__\":\n",
        "  get_li\n",
        "  st()"
      ],
      "metadata": {
        "colab": {
          "base_uri": "https://localhost:8080/"
        },
        "id": "O_8oCcgLNIMe",
        "outputId": "198f3c35-2209-4e5c-b339-0f58d62dddbf"
      },
      "execution_count": null,
      "outputs": [
        {
          "output_type": "stream",
          "name": "stdout",
          "text": [
            "Enter a value :5\n",
            "Entera a value :1\n",
            "Here's the List ['5']\n",
            "Entera a value :2\n",
            "Here's the List ['5', '1']\n",
            "Entera a value :wasi\n",
            "Here's the List ['5', '1', '2']\n",
            "Entera a value :s\n",
            "Here's the List ['5', '1', '2', 'wasi']\n",
            "Entera a value :w\n",
            "Here's the List ['5', '1', '2', 'wasi', 's']\n",
            "Entera a value :w\n",
            "Here's the List ['5', '1', '2', 'wasi', 's', 'w']\n",
            "Entera a value :\n",
            "Here's the List ['5', '1', '2', 'wasi', 's', 'w', 'w']\n"
          ]
        }
      ]
    },
    {
      "cell_type": "markdown",
      "source": [
        "#### 08 Shorten\n",
        "\n"
      ],
      "metadata": {
        "id": "cFwWboW7O5Va"
      }
    },
    {
      "cell_type": "code",
      "source": [
        "MAX_LENGTH : int = 3\n",
        "\n",
        "def shorten(lst):\n",
        "    while len(lst) > MAX_LENGTH:\n",
        "        last_elem = lst.pop()\n",
        "        print(last_elem)\n",
        "\n",
        "def get_lst():\n",
        "    lst = []\n",
        "    elem = input(\"Please enter an element of the list or press enter to stop. \")\n",
        "    while elem != \"\":\n",
        "        lst.append(elem)\n",
        "        elem = input(\"Please enter an element of the list or press enter to stop. \")\n",
        "    return lst\n",
        "\n",
        "def main():\n",
        "    lst = get_lst()\n",
        "    shorten(lst)\n",
        "\n",
        "if __name__ == '__main__':\n",
        "    main()"
      ],
      "metadata": {
        "colab": {
          "base_uri": "https://localhost:8080/"
        },
        "id": "HuZAcDJ2PBt0",
        "outputId": "ce1326cf-5e27-45f8-8c7a-cc72338555f9"
      },
      "execution_count": null,
      "outputs": [
        {
          "output_type": "stream",
          "name": "stdout",
          "text": [
            "Please enter an element of the list or press enter to stop. 1\n",
            "Please enter an element of the list or press enter to stop. 2\n",
            "Please enter an element of the list or press enter to stop. 3\n",
            "Please enter an element of the list or press enter to stop. 4\n",
            "Please enter an element of the list or press enter to stop. 5\n",
            "Please enter an element of the list or press enter to stop. \n",
            "5\n",
            "4\n"
          ]
        }
      ]
    },
    {
      "cell_type": "markdown",
      "source": [
        "### **03 If Statements**\n",
        "\n",
        "---\n",
        "\n"
      ],
      "metadata": {
        "id": "RCeJUVF_Q1zU"
      }
    },
    {
      "cell_type": "markdown",
      "source": [
        "#### 01 Print Events"
      ],
      "metadata": {
        "id": "Si1wctx4RAds"
      }
    },
    {
      "cell_type": "code",
      "source": [
        "def events():\n",
        "  for i in range(20):\n",
        "    print(i * 2)\n",
        "if __name__  == \"__main__\":\n",
        "  events()"
      ],
      "metadata": {
        "colab": {
          "base_uri": "https://localhost:8080/"
        },
        "id": "kqyq2fPGROT9",
        "outputId": "182dc2e9-3865-432b-c99b-b570edaac5a0"
      },
      "execution_count": null,
      "outputs": [
        {
          "output_type": "stream",
          "name": "stdout",
          "text": [
            "0\n",
            "2\n",
            "4\n",
            "6\n",
            "8\n",
            "10\n",
            "12\n",
            "14\n",
            "16\n",
            "18\n",
            "20\n",
            "22\n",
            "24\n",
            "26\n",
            "28\n",
            "30\n",
            "32\n",
            "34\n",
            "36\n",
            "38\n"
          ]
        }
      ]
    },
    {
      "cell_type": "markdown",
      "source": [
        "#### 02 International Voting Age"
      ],
      "metadata": {
        "id": "2Xbvp3uZSBfS"
      }
    },
    {
      "cell_type": "code",
      "source": [
        "PETURKSBOUIPO_AGE : int = 16\n",
        "STANLAU_AGE : int = 25\n",
        "MAYENGUA_AGE : int = 48\n",
        "\n",
        "def main():\n",
        "    user_age = int(input(\"How old are you? \"))\n",
        "\n",
        "    if user_age >= PETURKSBOUIPO_AGE:\n",
        "        print(\"You can vote in Peturksbouipo where the voting age is \" + str(PETURKSBOUIPO_AGE) + \".\")\n",
        "    else:\n",
        "        print(\"You cannot vote in Peturksbouipo where the voting age is \" + str(PETURKSBOUIPO_AGE) + \".\")\n",
        "\n",
        "    if user_age >= STANLAU_AGE:\n",
        "        print(\"You can vote in Stanlau where the voting age is \" + str(STANLAU_AGE) + \".\")\n",
        "    else:\n",
        "        print(\"You cannot vote in Stanlau where the voting age is \" + str(STANLAU_AGE) + \".\")\n",
        "\n",
        "    if user_age >= MAYENGUA_AGE:\n",
        "        print(\"You can vote in Mayengua where the voting age is \" + str(MAYENGUA_AGE) + \".\")\n",
        "    else:\n",
        "        print(\"You cannot vote in Mayengua where the voting age is \" + str(MAYENGUA_AGE) + \".\")\n",
        "\n",
        "if __name__ == '__main__':\n",
        "    main()"
      ],
      "metadata": {
        "colab": {
          "base_uri": "https://localhost:8080/"
        },
        "id": "ax3s8xCSSI02",
        "outputId": "6281a5cd-dd54-442d-d9ec-797260e274ca"
      },
      "execution_count": null,
      "outputs": [
        {
          "output_type": "stream",
          "name": "stdout",
          "text": [
            "How old are you? 19\n",
            "You can vote in Peturksbouipo where the voting age is 16.\n",
            "You cannot vote in Stanlau where the voting age is 25.\n",
            "You cannot vote in Mayengua where the voting age is 48.\n"
          ]
        }
      ]
    },
    {
      "cell_type": "markdown",
      "source": [
        "#### 03 Leap Year"
      ],
      "metadata": {
        "id": "tDpynItpS-NK"
      }
    },
    {
      "cell_type": "code",
      "source": [
        "def leap():\n",
        "  year :  int = int(input(\"Please input a year:\"))\n",
        "  if year % 4 == 0:\n",
        "    if year % 100 == 0:\n",
        "      if year % 400 == 0:\n",
        "        print(str(year) + \" is a Leap Year\")\n",
        "      else:\n",
        "        print(str(year) + \" is not a Leap Year\")\n",
        "    else:\n",
        "        print(str(year) + \" is not a Leap Year\")\n",
        "  else:\n",
        "    print(str(year) + \" is not a Leap year\")\n",
        "\n",
        "if __name__ == \"__main__\":\n",
        "  leap()"
      ],
      "metadata": {
        "colab": {
          "base_uri": "https://localhost:8080/"
        },
        "id": "MUWKF00iTEGU",
        "outputId": "81fdf0a4-084e-467e-bff2-f9ee266276a8"
      },
      "execution_count": null,
      "outputs": [
        {
          "output_type": "stream",
          "name": "stdout",
          "text": [
            "Please input a year:1\n",
            "1 is not a Leap year\n"
          ]
        }
      ]
    },
    {
      "cell_type": "markdown",
      "source": [
        "#### 04 Tall Enough To Ride"
      ],
      "metadata": {
        "id": "37plurt1VOlS"
      }
    },
    {
      "cell_type": "code",
      "source": [
        "MINIMUM_HEIGHT : int = 50\n",
        "\n",
        "def main():\n",
        "\n",
        "    height = float(input(\"How tall are you? \"))\n",
        "    if height >= MINIMUM_HEIGHT:\n",
        "        print(\"You're tall enough to ride!\")\n",
        "    else:\n",
        "        print(\"You're not tall enough to ride, but maybe next year!\")\n",
        "\n",
        "if __name__ == '__main__':\n",
        "    main()"
      ],
      "metadata": {
        "colab": {
          "base_uri": "https://localhost:8080/"
        },
        "id": "OVAG6GgTVb2l",
        "outputId": "00914736-7f3b-425b-a0c5-c3eef9ea892d"
      },
      "execution_count": null,
      "outputs": [
        {
          "output_type": "stream",
          "name": "stdout",
          "text": [
            "How tall are you? 49\n",
            "You're not tall enough to ride, but maybe next year!\n"
          ]
        }
      ]
    },
    {
      "cell_type": "markdown",
      "source": [
        "#### 05 Random Numbers"
      ],
      "metadata": {
        "id": "oq9dzUhsV67Q"
      }
    },
    {
      "cell_type": "code",
      "source": [
        "import random as rd\n",
        "def random():\n",
        "  for i in range(10):\n",
        "    num : list[int] = rd.randint(1 , 100)\n",
        "    print(num)\n",
        "\n",
        "if __name__ ==  \"__main__\":\n",
        "  random()"
      ],
      "metadata": {
        "colab": {
          "base_uri": "https://localhost:8080/"
        },
        "id": "f_T6AAGgYPsR",
        "outputId": "eaebe150-8a9e-4b36-e50d-2be286402050"
      },
      "execution_count": null,
      "outputs": [
        {
          "output_type": "stream",
          "name": "stdout",
          "text": [
            "10\n",
            "85\n",
            "85\n",
            "96\n",
            "21\n",
            "29\n",
            "83\n",
            "83\n",
            "41\n",
            "70\n"
          ]
        }
      ]
    },
    {
      "cell_type": "markdown",
      "source": [
        "### **04 Dictionaries**<font>\n",
        "\n",
        "---\n",
        "\n"
      ],
      "metadata": {
        "id": "EYgtcKOeZC17"
      }
    },
    {
      "cell_type": "markdown",
      "source": [
        "#### 00 Count Numbers"
      ],
      "metadata": {
        "id": "BgfzLb6oZJu6"
      }
    },
    {
      "cell_type": "code",
      "source": [
        "def count_number():\n",
        "    count_dict = {}\n",
        "\n",
        "    while True:\n",
        "        number = input(\"Enter a number ('Exit' or 'Quit'): \")\n",
        "\n",
        "        if number.lower() in ['exit', 'quit']:\n",
        "            break\n",
        "\n",
        "        if number.isdigit():\n",
        "            number = int(number)\n",
        "            count_dict[number] = count_dict.get(number, 0) + 1\n",
        "            print(count_dict)\n",
        "        else:\n",
        "            print(\"Invalid input, please enter a number or 'Exit' or 'Quit'.\")\n",
        "\n",
        "    return count_dict\n",
        "\n",
        "def display_count(count_dict):\n",
        "    print(\"\\nNumber Count:\")\n",
        "    for key, value in count_dict.items():\n",
        "        print(f\"{key} appears {value} times.\")\n",
        "\n",
        "if __name__ == \"__main__\":\n",
        "    count = count_number()\n",
        "    display_count(count)\n"
      ],
      "metadata": {
        "colab": {
          "base_uri": "https://localhost:8080/"
        },
        "id": "mVRSgk6gZQt2",
        "outputId": "0cafbde1-6e8f-4693-f4ba-22b02285f8be"
      },
      "execution_count": null,
      "outputs": [
        {
          "output_type": "stream",
          "name": "stdout",
          "text": [
            "Enter a number ('Exit' or 'Quit'): 6\n",
            "{6: 1}\n",
            "Enter a number ('Exit' or 'Quit'): 5\n",
            "{6: 1, 5: 1}\n",
            "Enter a number ('Exit' or 'Quit'): 3\n",
            "{6: 1, 5: 1, 3: 1}\n",
            "Enter a number ('Exit' or 'Quit'): 3\n",
            "{6: 1, 5: 1, 3: 2}\n",
            "Enter a number ('Exit' or 'Quit'): 3\n",
            "{6: 1, 5: 1, 3: 3}\n",
            "Enter a number ('Exit' or 'Quit'): 3\n",
            "{6: 1, 5: 1, 3: 4}\n",
            "Enter a number ('Exit' or 'Quit'): 3\n",
            "{6: 1, 5: 1, 3: 5}\n",
            "Enter a number ('Exit' or 'Quit'): 3\n",
            "{6: 1, 5: 1, 3: 6}\n",
            "Enter a number ('Exit' or 'Quit'): 3\n",
            "{6: 1, 5: 1, 3: 7}\n",
            "Enter a number ('Exit' or 'Quit'): Quit\n",
            "\n",
            "Number Count:\n",
            "6 appears 1 times.\n",
            "5 appears 1 times.\n",
            "3 appears 7 times.\n"
          ]
        }
      ]
    },
    {
      "cell_type": "markdown",
      "source": [
        "#### 01 Phonebook"
      ],
      "metadata": {
        "id": "T_NzIHsJfnof"
      }
    },
    {
      "cell_type": "code",
      "source": [
        "def add_contact(phonebook):\n",
        "    name = input(\"Enter Contact Name: \")\n",
        "    number = input(\"Enter Contact Number: \")\n",
        "    if name in phonebook:\n",
        "        print(f\"{name} already exists in phonebook.\")\n",
        "    else:\n",
        "        phonebook[name] = number\n",
        "        print(f\"{name} has been added to the phonebook.\")\n",
        "\n",
        "def search_contact(phonebook):\n",
        "    name = input(\"Enter Contact Name to Search: \")\n",
        "    if name in phonebook:\n",
        "        print(f\"{name} : {phonebook[name]}\")\n",
        "    else:\n",
        "        print(f\"{name} not found in the phonebook.\")\n",
        "\n",
        "def delete_contact(phonebook):\n",
        "    name = input(\"Enter Contact Name to Delete: \")\n",
        "    if name in phonebook:\n",
        "        del phonebook[name]\n",
        "        print(f\"{name} deleted from the phonebook.\")\n",
        "    else:\n",
        "        print(f\"{name} not found in the phonebook.\")\n",
        "\n",
        "def display_contacts(phonebook):\n",
        "    if phonebook:\n",
        "        print(\"\\nPhone Book Contacts List:\")\n",
        "        for name, number in phonebook.items():\n",
        "            print(f\"{name} : {number}\")\n",
        "    else:\n",
        "        print(\"Phonebook is empty.\")\n",
        "\n",
        "if __name__ == \"__main__\":\n",
        "    phonebook = {}\n",
        "\n",
        "    while True:\n",
        "        print(\"\\n--- Phone Book Menu ---\")\n",
        "        print(\"1) Add Contact\")\n",
        "        print(\"2) Search Contact\")\n",
        "        print(\"3) Delete Contact\")\n",
        "        print(\"4) Display Contacts\")\n",
        "        print(\"5) Exit\")\n",
        "\n",
        "        choice = input(\"Enter Your Choice (1-5): \")\n",
        "\n",
        "        if choice == \"1\":\n",
        "            add_contact(phonebook)\n",
        "        elif choice == \"2\":\n",
        "            search_contact(phonebook)\n",
        "        elif choice == \"3\":\n",
        "            delete_contact(phonebook)\n",
        "        elif choice == \"4\":\n",
        "            display_contacts(phonebook)\n",
        "        elif choice == \"5\":\n",
        "            print(\"\\nExiting Phone Book. Goodbye!\")\n",
        "            break\n",
        "        else:\n",
        "            print(\"\\nInvalid Choice. Please enter a valid option (1-5).\")\n"
      ],
      "metadata": {
        "id": "X_lRaEE8f19O",
        "colab": {
          "base_uri": "https://localhost:8080/"
        },
        "outputId": "fe2a1a73-bd73-4dae-df67-41808b10b285"
      },
      "execution_count": null,
      "outputs": [
        {
          "output_type": "stream",
          "name": "stdout",
          "text": [
            "\n",
            "--- Phone Book Menu ---\n",
            "1) Add Contact\n",
            "2) Search Contact\n",
            "3) Delete Contact\n",
            "4) Display Contacts\n",
            "5) Exit\n",
            "Enter Your Choice (1-5): 1\n",
            "Enter Contact Name: Wasi Ahmed\n",
            "Enter Contact Number: 03100037349\n",
            "Wasi Ahmed has been added to the phonebook.\n",
            "\n",
            "--- Phone Book Menu ---\n",
            "1) Add Contact\n",
            "2) Search Contact\n",
            "3) Delete Contact\n",
            "4) Display Contacts\n",
            "5) Exit\n",
            "Enter Your Choice (1-5): 2\n",
            "Enter Contact Name to Search: Wasi Ahmed\n",
            "Wasi Ahmed : 03100037349\n",
            "\n",
            "--- Phone Book Menu ---\n",
            "1) Add Contact\n",
            "2) Search Contact\n",
            "3) Delete Contact\n",
            "4) Display Contacts\n",
            "5) Exit\n",
            "Enter Your Choice (1-5): 3\n",
            "Enter Contact Name to Delete: Wasi Ahmed\n",
            "Wasi Ahmed deleted from the phonebook.\n",
            "\n",
            "--- Phone Book Menu ---\n",
            "1) Add Contact\n",
            "2) Search Contact\n",
            "3) Delete Contact\n",
            "4) Display Contacts\n",
            "5) Exit\n",
            "Enter Your Choice (1-5): 4\n",
            "Phonebook is empty.\n",
            "\n",
            "--- Phone Book Menu ---\n",
            "1) Add Contact\n",
            "2) Search Contact\n",
            "3) Delete Contact\n",
            "4) Display Contacts\n",
            "5) Exit\n",
            "Enter Your Choice (1-5): 5\n",
            "\n",
            "Exiting Phone Book. Goodbye!\n"
          ]
        }
      ]
    },
    {
      "cell_type": "markdown",
      "source": [
        "#### 02 Pop Up Shop"
      ],
      "metadata": {
        "id": "uuuezuSATdDs"
      }
    },
    {
      "cell_type": "code",
      "source": [
        "def main():\n",
        "    fruits = {'apple': 1.5, 'durian': 50, 'jackfruit': 80, 'kiwi': 1, 'rambutan': 1.5, 'mango': 5}\n",
        "\n",
        "    total_cost = 0\n",
        "    for fruit_name in fruits:\n",
        "        price = fruits[fruit_name]\n",
        "        amount_bought = int(input(\"How many (\" + fruit_name + \") do you want to buy?: \"))\n",
        "        total_cost += (price * amount_bought)\n",
        "\n",
        "    print(\"Your total is $\" + str(total_cost))\n",
        "\n",
        "if __name__ == '__main__':\n",
        "    main()"
      ],
      "metadata": {
        "colab": {
          "base_uri": "https://localhost:8080/"
        },
        "id": "IRIk-gTuUVn-",
        "outputId": "17f1fdf6-fb02-44a2-c90e-cc03cd6be61e"
      },
      "execution_count": null,
      "outputs": [
        {
          "output_type": "stream",
          "name": "stdout",
          "text": [
            "How many (apple) do you want to buy?: 50\n",
            "How many (durian) do you want to buy?: 23\n",
            "How many (jackfruit) do you want to buy?: 12\n",
            "How many (kiwi) do you want to buy?: 34\n",
            "How many (rambutan) do you want to buy?: 4\n",
            "How many (mango) do you want to buy?: 43\n",
            "Your total is $2440.0\n"
          ]
        }
      ]
    },
    {
      "cell_type": "markdown",
      "source": [
        "#### 03 Powerful Password"
      ],
      "metadata": {
        "id": "3djhwqRxWp5_"
      }
    },
    {
      "cell_type": "code",
      "source": [
        "import hashlib\n",
        "\n",
        "def hash_password(password):\n",
        "    return hashlib.sha256(password.encode()).hexdigest()\n",
        "\n",
        "storage_login = {\n",
        "    \"user@example.com\": hash_password(\"Wasi\"),\n",
        "    \"admin@example.com\": hash_password(\"admin1234\")\n",
        "}\n",
        "\n",
        "def login(email, password):\n",
        "    if email in storage_login:\n",
        "        return storage_login[email] == hash_password(password)\n",
        "    return False\n",
        "\n",
        "if __name__ == \"__main__\":\n",
        "    email = input(\"Enter Your Email: \")\n",
        "    password = input(\"Enter Your Password: \")\n",
        "\n",
        "    if login(email, password):\n",
        "        print(\"\\nLogin Successfully!\")\n",
        "    else:\n",
        "        print(\"\\nInvalid Email or Password\")\n"
      ],
      "metadata": {
        "id": "s8Yq2t41WvvJ",
        "colab": {
          "base_uri": "https://localhost:8080/"
        },
        "outputId": "295ee137-08d0-49d2-cf06-850056313ffa"
      },
      "execution_count": null,
      "outputs": [
        {
          "output_type": "stream",
          "name": "stdout",
          "text": [
            "Enter Your Email: user@example.com\n",
            "Enter Your Password: Wasi\n",
            "\n",
            "Login Successfully!\n"
          ]
        }
      ]
    },
    {
      "cell_type": "markdown",
      "source": [
        "### **05 Loops Control Flow**\n",
        "\n",
        "---\n",
        "\n"
      ],
      "metadata": {
        "id": "HgDklxo3xn-8"
      }
    },
    {
      "cell_type": "markdown",
      "source": [
        "#### 00 Guess My Numbers\n",
        "\n",
        "\n",
        "\n"
      ],
      "metadata": {
        "id": "UFoYcgz6x_ZP"
      }
    },
    {
      "cell_type": "code",
      "source": [
        "\n",
        "import random\n",
        "\n",
        "def main():\n",
        "    secret_number = random.randint(1, 99)\n",
        "\n",
        "    print(\"I am thinking of a number between 1 and 99...\")\n",
        "\n",
        "    guess = int(input(\"Enter a guess: \"))\n",
        "    while guess != secret_number:\n",
        "        if guess < secret_number:\n",
        "            print(\"Your guess is too low\")\n",
        "        else:\n",
        "            print(\"Your guess is too high\")\n",
        "\n",
        "        print(\" \")\n",
        "        guess = int(input(\"Enter a new guess: \"))\n",
        "\n",
        "    print(\"Congrats! The number was: \" + str(secret_number))\n",
        "\n",
        "if __name__ == '__main__':\n",
        "    main()"
      ],
      "metadata": {
        "id": "yvVfo6juyILj",
        "colab": {
          "base_uri": "https://localhost:8080/"
        },
        "outputId": "416c1702-22ca-418b-8c74-7cac74d77dd3"
      },
      "execution_count": null,
      "outputs": [
        {
          "output_type": "stream",
          "name": "stdout",
          "text": [
            "I am thinking of a number between 1 and 99...\n",
            "Enter a guess: 50\n",
            "Your guess is too high\n",
            " \n",
            "Enter a new guess: 30\n",
            "Your guess is too high\n",
            " \n",
            "Enter a new guess: 10\n",
            "Your guess is too high\n",
            " \n",
            "Enter a new guess: 2\n",
            "Your guess is too low\n",
            " \n",
            "Enter a new guess: 6\n",
            "Your guess is too low\n",
            " \n",
            "Enter a new guess: 20\n",
            "Your guess is too high\n",
            " \n",
            "Enter a new guess: 15\n",
            "Your guess is too high\n",
            " \n",
            "Enter a new guess: 10\n",
            "Your guess is too high\n",
            " \n",
            "Enter a new guess: 9\n",
            "Congrats! The number was: 9\n"
          ]
        }
      ]
    },
    {
      "cell_type": "markdown",
      "source": [
        "#### 01 Fibonacci"
      ],
      "metadata": {
        "id": "rSyQHaUfzVHH"
      }
    },
    {
      "cell_type": "code",
      "source": [
        "max_value = 10000\n",
        "def main():\n",
        "  a,b = 0,1\n",
        "  print(a,b, end=\" \")\n",
        "  while True:\n",
        "    c = a + b\n",
        "    if c >= max_value:\n",
        "      break\n",
        "    print(c, end=\" \" )\n",
        "    a,b = b,c\n",
        "\n",
        "if __name__ ==\"__main__\":\n",
        "   main()"
      ],
      "metadata": {
        "id": "Qcp688vozxLf",
        "colab": {
          "base_uri": "https://localhost:8080/"
        },
        "outputId": "28b258fb-f948-4f43-c85d-a47c0ef470bf"
      },
      "execution_count": null,
      "outputs": [
        {
          "output_type": "stream",
          "name": "stdout",
          "text": [
            "0 1 1 2 3 5 8 13 21 34 55 89 144 233 377 610 987 1597 2584 4181 6765 "
          ]
        }
      ]
    },
    {
      "cell_type": "markdown",
      "source": [
        "#### 02 Print Events"
      ],
      "metadata": {
        "id": "vYZWSfqSgNl2"
      }
    },
    {
      "cell_type": "code",
      "source": [
        "def main():\n",
        "    for i in range(20):\n",
        "        print(i * 2)\n",
        "\n",
        "if __name__ == \"__main__\":\n",
        "    main()"
      ],
      "metadata": {
        "colab": {
          "base_uri": "https://localhost:8080/"
        },
        "id": "NBK40gOlgc7b",
        "outputId": "de280413-e544-4c53-e75a-ddc6e22919ec"
      },
      "execution_count": null,
      "outputs": [
        {
          "output_type": "stream",
          "name": "stdout",
          "text": [
            "0\n",
            "2\n",
            "4\n",
            "6\n",
            "8\n",
            "10\n",
            "12\n",
            "14\n",
            "16\n",
            "18\n",
            "20\n",
            "22\n",
            "24\n",
            "26\n",
            "28\n",
            "30\n",
            "32\n",
            "34\n",
            "36\n",
            "38\n"
          ]
        }
      ]
    },
    {
      "cell_type": "markdown",
      "source": [
        "#### 03 Wholesome Machine"
      ],
      "metadata": {
        "id": "JC52eb76hCfP"
      }
    },
    {
      "cell_type": "code",
      "source": [
        "correct = \"I am Capabal of doing anything. I put my mind too\"\n",
        "def main():\n",
        "  print(\"Welcome to the Wholesome Machine\")\n",
        "  while True:\n",
        "    user_input = input(\"Please type the following affermation : \" + correct)\n",
        "    if user_input == correct:\n",
        "      print(\"That\\,s right!\")\n",
        "      break\n",
        "    else:\n",
        "      print(\"Hmmm That was not the affermation\")\n",
        "\n",
        "if  __name__ == \" __main__\":\n",
        "    main()"
      ],
      "metadata": {
        "id": "Ug2mNUgxk_8N"
      },
      "execution_count": 1,
      "outputs": []
    },
    {
      "cell_type": "markdown",
      "source": [
        "#### 04 Lift Off"
      ],
      "metadata": {
        "id": "Qpd40g1Qk0ce"
      }
    },
    {
      "cell_type": "code",
      "source": [
        "def main():\n",
        "  for i in range(10, 0, -1):\n",
        "    print(i, end=\" \" )\n",
        "  print(\"Left Off\")\n",
        "\n",
        "if __name__ == \"__main__\":\n",
        "    main()"
      ],
      "metadata": {
        "colab": {
          "base_uri": "https://localhost:8080/"
        },
        "id": "yTz56b6ElOWT",
        "outputId": "f2301488-3c67-4ab0-cf79-3d7f9c401444"
      },
      "execution_count": null,
      "outputs": [
        {
          "output_type": "stream",
          "name": "stdout",
          "text": [
            "10 9 8 7 6 5 4 3 2 1 Left Off\n"
          ]
        }
      ]
    },
    {
      "cell_type": "markdown",
      "source": [
        "#### 05 Double it"
      ],
      "metadata": {
        "id": "TyOwK6LClyhy"
      }
    },
    {
      "cell_type": "code",
      "source": [
        "def main():\n",
        "  User_value = int(input(\"Enter a number: \"))\n",
        "  while User_value < 100:\n",
        "    User_value = User_value * 2\n",
        "    print(User_value)\n",
        "\n",
        "if __name__ ==\"__main__\":\n",
        "  main()"
      ],
      "metadata": {
        "colab": {
          "base_uri": "https://localhost:8080/"
        },
        "id": "f7xSV1qNmAMg",
        "outputId": "06e50660-8471-4b87-962c-8e1eda45cf3b"
      },
      "execution_count": null,
      "outputs": [
        {
          "output_type": "stream",
          "name": "stdout",
          "text": [
            "Enter a number: 2\n",
            "4\n",
            "8\n",
            "16\n",
            "32\n",
            "64\n",
            "128\n"
          ]
        }
      ]
    }
  ],
  "metadata": {
    "colab": {
      "collapsed_sections": [
        "u7ZjTueodRSU",
        "xONXgOF6xMH9",
        "wEBcl8ovZoJj",
        "Ji0LHle0EOW0",
        "RCeJUVF_Q1zU"
      ],
      "provenance": []
    },
    "kernelspec": {
      "display_name": "Python 3",
      "name": "python3"
    },
    "language_info": {
      "name": "python"
    }
  },
  "nbformat": 4,
  "nbformat_minor": 0
}