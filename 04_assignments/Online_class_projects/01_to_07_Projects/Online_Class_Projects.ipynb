{
  "cells": [
    {
      "cell_type": "markdown",
      "metadata": {
        "id": "1J5unY_KRlZd"
      },
      "source": [
        "# **Online Class Projects**\n"
      ]
    },
    {
      "cell_type": "markdown",
      "metadata": {
        "id": "OvWhFwggRtta"
      },
      "source": [
        "##**01 Basics**"
      ]
    },
    {
      "cell_type": "markdown",
      "metadata": {
        "id": "t8l9o9myR6wW"
      },
      "source": [
        "### 00 Joke Bot"
      ]
    },
    {
      "cell_type": "code",
      "execution_count": null,
      "metadata": {
        "colab": {
          "base_uri": "https://localhost:8080/"
        },
        "id": "WEsLD2_USHGD",
        "outputId": "0d4294ec-424f-4f97-c6f8-71c94d74ca02"
      },
      "outputs": [
        {
          "name": "stdout",
          "output_type": "stream",
          "text": [
            "What do you want?\n",
            "joke\n",
            "Why don’t skeletons fight each other?\n",
            "Because they don’t have the guts! 😄\n"
          ]
        }
      ],
      "source": [
        "PROMPT: str = \"What do you want?\\n\"\n",
        "JOKE: str = \"Why don’t skeletons fight each other?\\nBecause they don’t have the guts! 😄\"\n",
        "SORRY: str = \"Sorry, I only tell jokes.\"\n",
        "\n",
        "def main():\n",
        "    user_input = input(PROMPT).strip().lower()\n",
        "\n",
        "    if user_input == \"joke\":\n",
        "        print(JOKE)\n",
        "    else:\n",
        "        print(SORRY)\n",
        "\n",
        "if __name__ == \"__main__\":\n",
        "    main()"
      ]
    },
    {
      "cell_type": "markdown",
      "metadata": {
        "id": "lhKs8eJK4Dc7"
      },
      "source": [
        "### 01 Double it"
      ]
    },
    {
      "cell_type": "code",
      "execution_count": null,
      "metadata": {
        "colab": {
          "base_uri": "https://localhost:8080/"
        },
        "id": "KOPKzP9_4hiB",
        "outputId": "2106c0fe-fdc9-42e1-d1ef-3d7141464d95"
      },
      "outputs": [
        {
          "name": "stdout",
          "output_type": "stream",
          "text": [
            "Enter a number: 6\n",
            "12\n",
            "24\n",
            "48\n",
            "96\n",
            "192\n"
          ]
        }
      ],
      "source": [
        "def main():\n",
        "  User_value = int(input(\"Enter a number: \"))\n",
        "  while User_value < 100:\n",
        "    User_value = User_value * 2\n",
        "    print(User_value)\n",
        "\n",
        "if __name__ ==\"__main__\":\n",
        "  main()"
      ]
    },
    {
      "cell_type": "markdown",
      "metadata": {
        "id": "x73GwA6l4oPt"
      },
      "source": [
        "### 02 Lift Off"
      ]
    },
    {
      "cell_type": "code",
      "execution_count": null,
      "metadata": {
        "colab": {
          "base_uri": "https://localhost:8080/"
        },
        "id": "yGEO41NS4yRY",
        "outputId": "33ed17bd-2673-4cf4-adc3-835f20b984f8"
      },
      "outputs": [
        {
          "name": "stdout",
          "output_type": "stream",
          "text": [
            "10 9 8 7 6 5 4 3 2 1 Left Off\n"
          ]
        }
      ],
      "source": [
        "def main():\n",
        "  for i in range(10, 0, -1):\n",
        "    print(i, end=\" \" )\n",
        "  print(\"Left Off\")\n",
        "\n",
        "if __name__ == \"__main__\":\n",
        "    main()"
      ]
    },
    {
      "cell_type": "markdown",
      "metadata": {
        "id": "7PsSgCsj5Cd4"
      },
      "source": [
        "### 03 Guess My Numbers"
      ]
    },
    {
      "cell_type": "code",
      "execution_count": null,
      "metadata": {
        "colab": {
          "base_uri": "https://localhost:8080/"
        },
        "id": "CQAz6nLZ5EQI",
        "outputId": "f16c4a83-c880-4cc3-d002-2dc37607d4be"
      },
      "outputs": [
        {
          "name": "stdout",
          "output_type": "stream",
          "text": [
            "I am thinking of a number between 1 and 99...\n",
            "Enter a guess: 70\n",
            "Your guess is too high\n",
            " \n",
            "Enter a new guess: 40\n",
            "Your guess is too high\n",
            " \n",
            "Enter a new guess: 30\n",
            "Congrats! The number was: 30\n"
          ]
        }
      ],
      "source": [
        "import random\n",
        "\n",
        "def main():\n",
        "    secret_number = random.randint(1, 99)\n",
        "\n",
        "    print(\"I am thinking of a number between 1 and 99...\")\n",
        "\n",
        "    guess = int(input(\"Enter a guess: \"))\n",
        "    while guess != secret_number:\n",
        "        if guess < secret_number:\n",
        "            print(\"Your guess is too low\")\n",
        "        else:\n",
        "            print(\"Your guess is too high\")\n",
        "\n",
        "        print(\" \")\n",
        "        guess = int(input(\"Enter a new guess: \"))\n",
        "\n",
        "    print(\"Congrats! The number was: \" + str(secret_number))\n",
        "\n",
        "if __name__ == '__main__':\n",
        "    main()"
      ]
    },
    {
      "cell_type": "markdown",
      "metadata": {
        "id": "0N32npSn5kzi"
      },
      "source": [
        "### 04 Random Numbers"
      ]
    },
    {
      "cell_type": "code",
      "execution_count": null,
      "metadata": {
        "colab": {
          "base_uri": "https://localhost:8080/"
        },
        "id": "1-dhxy1B5lII",
        "outputId": "4b6b44c1-0054-4315-d40d-4c0109d1e4f6"
      },
      "outputs": [
        {
          "name": "stdout",
          "output_type": "stream",
          "text": [
            "78\n",
            "57\n",
            "53\n",
            "30\n",
            "28\n",
            "24\n",
            "6\n",
            "82\n",
            "50\n",
            "77\n"
          ]
        }
      ],
      "source": [
        "import random as rd\n",
        "def random():\n",
        "  for i in range(10):\n",
        "    num : list[int] = rd.randint(1 , 100)\n",
        "    print(num)\n",
        "\n",
        "if __name__ ==  \"__main__\":\n",
        "  random()"
      ]
    },
    {
      "cell_type": "markdown",
      "metadata": {
        "id": "X0aTiF1A6jaN"
      },
      "source": [
        "## **02 Intermediate**"
      ]
    },
    {
      "cell_type": "markdown",
      "metadata": {
        "id": "uX5v3aY-7Arf"
      },
      "source": [
        "### **01 High Low Game**"
      ]
    },
    {
      "cell_type": "code",
      "execution_count": null,
      "metadata": {
        "colab": {
          "base_uri": "https://localhost:8080/"
        },
        "id": "0z4fqkmM7IiJ",
        "outputId": "c908601d-7146-4292-e9c2-f781f4d59c3c"
      },
      "outputs": [
        {
          "name": "stdout",
          "output_type": "stream",
          "text": [
            "Welcome to The Hight Low Game\n",
            "*****************************\n",
            "Round 1\n",
            "************\n",
            "Your's Number is: 71\n",
            "------------------------------\n",
            "Do You think your number is higher or lower then computer's number?\n",
            "higher\n",
            "------------------------------\n",
            "You were right! The Computer's number was 5\n",
            "------------------------------\n",
            "your Score is now 1\n",
            "\n",
            "Round 2\n",
            "************\n",
            "Your's Number is: 5\n",
            "------------------------------\n",
            "Do You think your number is higher or lower then computer's number?\n",
            "lower\n",
            "------------------------------\n",
            "You were right! The Computer's number was 76\n",
            "------------------------------\n",
            "your Score is now 2\n",
            "\n",
            "Round 3\n",
            "************\n",
            "Your's Number is: 14\n",
            "------------------------------\n",
            "Do You think your number is higher or lower then computer's number?\n",
            "lower\n",
            "------------------------------\n",
            "You were right! The Computer's number was 59\n",
            "------------------------------\n",
            "your Score is now 3\n",
            "\n",
            "Round 4\n",
            "************\n",
            "Your's Number is: 81\n",
            "------------------------------\n",
            "Do You think your number is higher or lower then computer's number?\n",
            "higher\n",
            "------------------------------\n",
            "You were right! The Computer's number was 21\n",
            "------------------------------\n",
            "your Score is now 4\n",
            "\n",
            "Round 5\n",
            "************\n",
            "Your's Number is: 73\n",
            "------------------------------\n",
            "Do You think your number is higher or lower then computer's number?\n",
            "higher\n",
            "------------------------------\n",
            "You were right! The Computer's number was 35\n",
            "------------------------------\n",
            "your Score is now 5\n",
            "\n",
            "Thank you Playing\n"
          ]
        }
      ],
      "source": [
        "import random\n",
        "\n",
        "round = 5\n",
        "def main():\n",
        "  print(\"Welcome to The Hight Low Game\")\n",
        "  print(\"*****************************\")\n",
        "\n",
        "  your_Score =  0\n",
        "\n",
        "  for i in range(5):\n",
        "    print(\"Round\", 1+i)\n",
        "    print(\"************\")\n",
        "\n",
        "    computer_number: int = random.randint(1, 100)\n",
        "    your_number: int = random.randint(1, 100)\n",
        "    print(f\"Your\\'s Number is: {your_number}\")\n",
        "    print(\"-\"*30)\n",
        "\n",
        "    choice : str  =  input(\"Do You think your number is higher or lower then computer\\'s number?\\n\").lower().strip()\n",
        "    print(\"-\"*30)\n",
        "    higher_number :bool = choice == \"higher\" and your_number > computer_number\n",
        "    lower_number :bool  = choice == \"lower\" and your_number < computer_number\n",
        "\n",
        "    if higher_number or lower_number:\n",
        "      print(f\"You were right! The Computer\\'s number was {computer_number}\")\n",
        "      print(\"-\"*30)\n",
        "      your_Score +=1\n",
        "    else:\n",
        "      print(f\"You were wrong! The Computer\\'s number was {computer_number}\")\n",
        "      print(\"-\"*30)\n",
        "\n",
        "    print(f\"your Score is now {your_Score}\")\n",
        "    print()\n",
        "\n",
        "  print(\"Thank you Playing\")\n",
        "\n",
        "if __name__ == \"__main__\":\n",
        "  main()\n"
      ]
    },
    {
      "cell_type": "markdown",
      "metadata": {
        "id": "OsB53HPdEDie"
      },
      "source": [
        "### **02 Planetary Weight Calculator**"
      ]
    },
    {
      "cell_type": "code",
      "execution_count": null,
      "metadata": {
        "colab": {
          "base_uri": "https://localhost:8080/"
        },
        "id": "5QjZeslwEUZo",
        "outputId": "af023152-fff1-472a-c62d-212bf319c7a1"
      },
      "outputs": [
        {
          "name": "stdout",
          "output_type": "stream",
          "text": [
            "Welcome to the Planetary Weight Calculator\n",
            "******************************************\n",
            "Enter your weight on Earth: 35\n",
            "\n",
            " select a planet\n",
            "-  Mercury\n",
            "-  Venus\n",
            "-  Mars\n",
            "-  Jupiter\n",
            "-  Saturn\n",
            "-  Uranus\n",
            "-  Reptune\n",
            "Enter the  name of the Planet: uranus\n",
            "Your Weight on Uranus is 32.20Kg\n"
          ]
        }
      ],
      "source": [
        "def main():\n",
        "  print(\"Welcome to the Planetary Weight Calculator\")\n",
        "  print('******************************************')\n",
        "\n",
        "  earth_weight = float(input(\"Enter your weight on Earth: \"))\n",
        "\n",
        "  gravity_factor = {\n",
        "      \"Mercury\": 0.38,\n",
        "      \"Venus\": 0.91,\n",
        "      \"Mars\":0.38,\n",
        "      \"Jupiter\": 2.34,\n",
        "      \"Saturn\": 0.93,\n",
        "      \"Uranus\": 0.92,\n",
        "      \"Reptune\": 1.19\n",
        "  }\n",
        "\n",
        "  print(\"\\n select a planet\")\n",
        "  for planet in gravity_factor:\n",
        "    print(f\"-  {planet}\")\n",
        "\n",
        "  plannet_choice = input(\"Enter the  name of the Planet: \").title()\n",
        "\n",
        "  if plannet_choice in gravity_factor:\n",
        "    new_weight = earth_weight * gravity_factor[plannet_choice]\n",
        "    print(f\"Your Weight on {plannet_choice} is {new_weight:.2f}Kg\")\n",
        "  else:\n",
        "    print(\"Invalid Planet Choice\")\n",
        "\n",
        "if __name__ == \"__main__\":\n",
        "  main()"
      ]
    },
    {
      "cell_type": "markdown",
      "metadata": {
        "id": "gyXrKwU0JA85"
      },
      "source": [
        "### **03 Lists and Dicts**"
      ]
    },
    {
      "cell_type": "code",
      "execution_count": null,
      "metadata": {
        "colab": {
          "base_uri": "https://localhost:8080/"
        },
        "id": "vjwTbyR7KliC",
        "outputId": "28d18d5b-dfc6-4592-cf5a-62b56e570a08"
      },
      "outputs": [
        {
          "name": "stdout",
          "output_type": "stream",
          "text": [
            "Welcome to the List Game!\n",
            "\n",
            "Current List: ['apple', 'mango', 'banana', 'orange', 'kiwi']\n",
            "Select an operation\n",
            "1. Access Element\n",
            "2. Modify Element\n",
            "3. Slice List\n",
            "4. Quit\n",
            "Enter your choice (1-4): 1\n",
            "Enter the index of the element you want to access: 3\n",
            "Element at index 3: orange\n",
            "\n",
            "Current List: ['apple', 'mango', 'banana', 'orange', 'kiwi']\n",
            "Select an operation\n",
            "1. Access Element\n",
            "2. Modify Element\n",
            "3. Slice List\n",
            "4. Quit\n",
            "Enter your choice (1-4): 2\n",
            "Enter the index of the element you want to modify: 2\n",
            "Enter the new value for the element: watermileon\n",
            "Element at index 2 modified from banana to watermileon\n",
            "\n",
            "Current List: ['apple', 'mango', 'watermileon', 'orange', 'kiwi']\n",
            "Select an operation\n",
            "1. Access Element\n",
            "2. Modify Element\n",
            "3. Slice List\n",
            "4. Quit\n",
            "Enter your choice (1-4): 3\n",
            "Enter the start index for the slice: 0\n",
            "Enter the end index for the slice: 3\n",
            "Sliced Elements: ['apple', 'mango', 'watermileon']\n",
            "\n",
            "Current List: ['apple', 'mango', 'watermileon', 'orange', 'kiwi']\n",
            "Select an operation\n",
            "1. Access Element\n",
            "2. Modify Element\n",
            "3. Slice List\n",
            "4. Quit\n",
            "Enter your choice (1-4): 4\n",
            "Exiting the game. Thanks for playing!\n"
          ]
        }
      ],
      "source": [
        "my_list = [\"apple\", \"mango\", \"banana\", \"orange\", \"kiwi\"]\n",
        "\n",
        "def access_element(my_list, index):\n",
        "    if 0 <= index < len(my_list):\n",
        "        return f\"Element at index {index}: {my_list[index]}\"\n",
        "    return \"Index out of range\"\n",
        "\n",
        "def modify_element(my_list, index, new_value):\n",
        "    if 0 <= index < len(my_list):\n",
        "        old_value = my_list[index]\n",
        "        my_list[index] = new_value  # Actually modify the list\n",
        "        return f\"Element at index {index} modified from {old_value} to {new_value}\"\n",
        "    return \"Index out of range\"\n",
        "\n",
        "def slice_element(my_list, start, end):\n",
        "    if 0 <= start < len(my_list) and 0 <= end <= len(my_list) and start < end:\n",
        "        return f\"Sliced Elements: {my_list[start:end]}\"\n",
        "    return \"Invalid slice indices\"\n",
        "\n",
        "def list_game():\n",
        "    print(\"Welcome to the List Game!\")\n",
        "    while True:\n",
        "        print(f\"\\nCurrent List: {my_list}\")\n",
        "        print(\"Select an operation\")\n",
        "        print(\"1. Access Element\")\n",
        "        print(\"2. Modify Element\")\n",
        "        print(\"3. Slice List\")\n",
        "        print(\"4. Quit\")\n",
        "\n",
        "        choice = input(\"Enter your choice (1-4): \").strip()\n",
        "\n",
        "        if choice == \"1\":\n",
        "            index = int(input(\"Enter the index of the element you want to access: \"))\n",
        "            print(access_element(my_list, index))\n",
        "        elif choice == \"2\":\n",
        "            index = int(input(\"Enter the index of the element you want to modify: \"))\n",
        "            new_value = input(\"Enter the new value for the element: \")\n",
        "            print(modify_element(my_list, index, new_value))\n",
        "        elif choice == \"3\":\n",
        "            start = int(input(\"Enter the start index for the slice: \"))\n",
        "            end = int(input(\"Enter the end index for the slice: \"))\n",
        "            print(slice_element(my_list, start, end))\n",
        "        elif choice == \"4\":\n",
        "            print(\"Exiting the game. Thanks for playing!\")\n",
        "            break\n",
        "        else:\n",
        "            print(\"Invalid choice. Please enter a number between 1 and 4.\")\n",
        "\n",
        "if __name__ == \"__main__\":\n",
        "    list_game()\n"
      ]
    },
    {
      "cell_type": "markdown",
      "metadata": {
        "id": "_7GYy4L7W74T"
      },
      "source": [
        "## **03: QR code encoder / decoder Python Project**"
      ]
    },
    {
      "cell_type": "code",
      "execution_count": null,
      "metadata": {
        "id": "ZEm4nS7eXYVu"
      },
      "outputs": [],
      "source": [
        "!pip install qrcode[pil]"
      ]
    },
    {
      "cell_type": "code",
      "execution_count": null,
      "metadata": {
        "colab": {
          "base_uri": "https://localhost:8080/",
          "height": 422
        },
        "id": "-gcecISCYW9-",
        "outputId": "2516b024-75c1-476d-a17c-ad924bc87d49"
      },
      "outputs": [
        {
          "name": "stdout",
          "output_type": "stream",
          "text": [
            "📝 Enter the text to generate QR Code: My Name is Wasi Ahmed\n"
          ]
        },
        {
          "data": {
            "image/jpeg": "[encoded data removed]",
            "image/png": "[encoded data removed]",
            "text/plain": [
              "<qrcode.image.pil.PilImage at 0x7ef50940add0>"
            ]
          },
          "metadata": {},
          "output_type": "display_data"
        },
        {
          "name": "stdout",
          "output_type": "stream",
          "text": [
            "✅ QR Code generated from your input and saved as 'user_qrcode.png' 🖼️\n",
            "🔍 QR Code Decoded: My Name is Wasi Ahmed\n"
          ]
        }
      ],
      "source": [
        "import qrcode as QR\n",
        "from IPython.display import display\n",
        "from PIL import Image as Img\n",
        "import cv2 as cv\n",
        "import numpy as np\n",
        "\n",
        "def generate_qrcode(data, filename=\"qrcode.png\"):\n",
        "    qr = QR.QRCode(version=1, box_size=10, border=5)\n",
        "    qr.add_data(data)\n",
        "    qr.make(fit=True)\n",
        "    img = qr.make_image(fill_color=\"black\", back_color=\"white\")\n",
        "    img.save(filename)\n",
        "    display(img)\n",
        "    print(f\"✅ QR Code generated from your input and saved as '{filename}' 🖼️\")\n",
        "\n",
        "def decode_qrcode(filename):\n",
        "    detector = cv.QRCodeDetector()\n",
        "    img = cv.imread(filename)\n",
        "\n",
        "    if img is None:\n",
        "        print(f\"❌ Image '{filename}' not found!\")\n",
        "        return\n",
        "\n",
        "    data, bbox, _ = detector.detectAndDecode(img)\n",
        "\n",
        "    if data:\n",
        "        print(f\"🔍 QR Code Decoded: {data}\")\n",
        "    else:\n",
        "        print(f\"❌ No QR Code found in '{filename}'\")\n",
        "\n",
        "user_input = input(\"📝 Enter the text to generate QR Code: \")\n",
        "filename = \"user_qrcode.png\"\n",
        "\n",
        "generate_qrcode(user_input, filename)\n",
        "decode_qrcode(filename)"
      ]
    },
    {
      "cell_type": "markdown",
      "metadata": {
        "id": "nXNEKv7AgNIb"
      },
      "source": [
        "## **04: Tic-Tac-Toe Python Project**"
      ]
    },
    {
      "cell_type": "code",
      "execution_count": null,
      "metadata": {
        "colab": {
          "base_uri": "https://localhost:8080/"
        },
        "id": "i59RvwmJgW-M",
        "outputId": "d39acd8d-ef5f-4d50-8961-04faf5a02be3"
      },
      "outputs": [
        {
          "output_type": "stream",
          "name": "stdout",
          "text": [
            "Welcome to The 'Tic Tac Toe'!\n",
            "\n",
            "\n",
            " 0 | 1 | 2 \n",
            "---+---+---\n",
            " 3 | 4 | 5 \n",
            "---+---+---\n",
            " 6 | 7 | 8 \n",
            "\n",
            "X's Chance\n",
            "\n",
            "Enter a value (0-9): 4\n",
            "\n",
            "\n",
            " 0 | 1 | 2 \n",
            "---+---+---\n",
            " 3 | X | 5 \n",
            "---+---+---\n",
            " 6 | 7 | 8 \n",
            "\n",
            "O's Chance\n",
            "\n",
            "Enter a value (0-9): 2\n",
            "\n",
            "\n",
            " 0 | 1 | O \n",
            "---+---+---\n",
            " 3 | X | 5 \n",
            "---+---+---\n",
            " 6 | 7 | 8 \n",
            "\n",
            "X's Chance\n",
            "\n",
            "Enter a value (0-9): 1\n",
            "\n",
            "\n",
            " 0 | X | O \n",
            "---+---+---\n",
            " 3 | X | 5 \n",
            "---+---+---\n",
            " 6 | 7 | 8 \n",
            "\n",
            "O's Chance\n",
            "\n",
            "Enter a value (0-9): 3\n",
            "\n",
            "\n",
            " 0 | X | O \n",
            "---+---+---\n",
            " O | X | 5 \n",
            "---+---+---\n",
            " 6 | 7 | 8 \n",
            "\n",
            "X's Chance\n",
            "\n",
            "Enter a value (0-9): 7\n",
            "X Won the Match\n",
            "\n",
            "Match Over\n",
            "\n"
          ]
        }
      ],
      "source": [
        "def print_board(xstate, zstate):\n",
        "   zero  = \"X\" if xstate[0]  else( \"O\" if zstate[0] else 0)\n",
        "   one  = \"X\" if xstate[1]  else( \"O\" if zstate[1] else 1)\n",
        "   two  = \"X\" if xstate[2]  else( \"O\" if zstate[2] else 2)\n",
        "   three  = \"X\" if xstate[3]  else( \"O\" if zstate[3] else 3)\n",
        "   four  = \"X\" if xstate[4]  else( \"O\" if zstate[4] else 4)\n",
        "   five  = \"X\" if xstate[5]  else( \"O\" if zstate[5] else 5)\n",
        "   six  = \"X\" if xstate[6]  else( \"O\" if zstate[6] else 6)\n",
        "   seven  = \"X\" if xstate[7]  else( \"O\" if zstate[7] else 7)\n",
        "   eight  = \"X\" if xstate[8]  else( \"O\" if zstate[8] else 8)\n",
        "   print(\"\\n\")\n",
        "   print(f\" {zero} | {one} | {two} \")\n",
        "   print(\"---+---+---\")\n",
        "   print(f\" {three} | {four} | {five} \")\n",
        "   print(\"---+---+---\")\n",
        "   print(f\" {six} | {seven} | {eight} \")\n",
        "\n",
        "def sum(a, b, c):\n",
        "  return a + b + c\n",
        "\n",
        "def check_win(xstate, zstate):\n",
        "   wins = [[0,1,2], [3,4,5], [6,7,8], [0,3,6], [1,4,7], [2,5,8], [0,4,8], [2,4,6]]\n",
        "   for win in wins:\n",
        "      if sum(xstate[win[0]], xstate[win[1]], xstate[win[2]]) == 3:\n",
        "        print(\"X Won the Match\\n\")\n",
        "        return 1\n",
        "      if sum(zstate[win[0]], zstate[win[1]], zstate[win[2]]) == 3:\n",
        "        print(\"O Won the Match\\n\")\n",
        "        return 0\n",
        "   return -1\n",
        "\n",
        "\n",
        "def display_game():\n",
        "  xstate = [0, 0, 0, 0, 0, 0, 0, 0, 0 ]\n",
        "  zstate = [0, 0, 0, 0, 0, 0, 0, 0, 0 ]\n",
        "  turn = 1\n",
        "  print(\"Welcome to The 'Tic Tac Toe'!\")\n",
        "  while True:\n",
        "    print_board(xstate, zstate)\n",
        "    print()\n",
        "    if turn == 1:\n",
        "      print(\"X's Chance\\n\")\n",
        "      value = int(input(\"Enter a value (0-9): \"))\n",
        "      xstate[value] = 1\n",
        "    else:\n",
        "      print(\"O's Chance\\n\")\n",
        "      value = int(input(\"Enter a value (0-9): \"))\n",
        "      zstate[value] = 1\n",
        "\n",
        "    cwin = check_win(xstate, zstate)\n",
        "    if cwin != -1:\n",
        "      print(\"Match Over\\n\")\n",
        "      break\n",
        "    turn = 1 - turn\n",
        "\n",
        "if __name__ == \"__main__\":\n",
        "   display_game()\n"
      ]
    },
    {
      "cell_type": "markdown",
      "source": [
        "## **05: Binary Search Python Project**"
      ],
      "metadata": {
        "id": "uc8ZcjzYHHM0"
      }
    },
    {
      "cell_type": "code",
      "source": [
        "def Binary_Search(List, start, end):\n",
        "    num = int(input(\"Enter a number: \"))\n",
        "    while start <= end:\n",
        "        mid = (start + end) // 2\n",
        "        if num == List[mid]:\n",
        "            return mid\n",
        "        elif num < List[mid]:\n",
        "            end = mid - 1\n",
        "        else:\n",
        "            start = mid + 1\n",
        "    return -1\n",
        "\n",
        "List = [20, 28, 32, 36, 40, 45, 49, 53, 55, 60, 63, 67, 70, 73, 75, 79, 85, 90, 95, 100]\n",
        "\n",
        "result = Binary_Search(List, 0, len(List) - 1)\n",
        "\n",
        "if result == -1:\n",
        "    print(\"❌ Element not found\")\n",
        "else:\n",
        "    print(f\"✅ Element found at position {result + 1}\")\n"
      ],
      "metadata": {
        "colab": {
          "base_uri": "https://localhost:8080/"
        },
        "id": "ydz_hF73HQaC",
        "outputId": "4a395b2b-0606-40ad-eeb9-dce72dc7bf47"
      },
      "execution_count": null,
      "outputs": [
        {
          "output_type": "stream",
          "name": "stdout",
          "text": [
            "Enter a number: 63\n",
            "✅ Element found at position 11\n"
          ]
        }
      ]
    },
    {
      "cell_type": "markdown",
      "source": [
        "## **06: Bulk File Re-namer Python Project**"
      ],
      "metadata": {
        "id": "FjGtArYVPEol"
      }
    },
    {
      "cell_type": "code",
      "source": [
        "import os\n",
        "from google.colab import drive\n",
        "\n",
        "drive.mount('/content/drive')\n",
        "\n",
        "def file_renamer():\n",
        "    path = \"/content/drive/MyDrive/vibc/\"\n",
        "    if not os.path.exists(path):\n",
        "        print(\"❌ Folder not found:\", path)\n",
        "        return\n",
        "\n",
        "    files = os.listdir(path)\n",
        "    i = 0\n",
        "    for filename in files:\n",
        "        source = os.path.join(path, filename)\n",
        "        destination = os.path.join(path, f\"Wasi{i}.txt\")\n",
        "        os.rename(source, destination)\n",
        "        i += 1\n",
        "    print(\"✅ All files renamed successfully.\")\n",
        "\n",
        "file_renamer()\n",
        "\n"
      ],
      "metadata": {
        "colab": {
          "base_uri": "https://localhost:8080/"
        },
        "id": "eyVapRtZPSK8",
        "outputId": "7539f0be-8375-4b70-8ae9-c7e578a9fbe5"
      },
      "execution_count": null,
      "outputs": [
        {
          "output_type": "stream",
          "name": "stdout",
          "text": [
            "Drive already mounted at /content/drive; to attempt to forcibly remount, call drive.mount(\"/content/drive\", force_remount=True).\n",
            "✅ All files renamed successfully.\n"
          ]
        }
      ]
    },
    {
      "cell_type": "markdown",
      "source": [
        "## **07: Weather Program Python Project**"
      ],
      "metadata": {
        "id": "KVNGH8PZZHdh"
      }
    },
    {
      "cell_type": "code",
      "source": [
        "import requests as req\n",
        "import json\n",
        "\n",
        "API_KEY = \"ae9c2d60fd78577b625c5ed9c99abab7\"\n",
        "city =  str(input(\"Enter your City Nmae: \")).strip().lower()\n",
        "base_url =  f\"https://api.openweathermap.org/data/2.5/weather?q={city}&units=metric&appid={API_KEY}\"\n",
        "weather_data = req.get(base_url).json()\n",
        "\n",
        "if weather_data.get(\"cod\") != 200:\n",
        "    print(\"❌ City not found ya kuch error hai.\")\n",
        "else:\n",
        "    city_name = weather_data[\"name\"]\n",
        "    country = weather_data[\"sys\"][\"country\"]\n",
        "    temp = weather_data[\"main\"][\"temp\"]\n",
        "    feels_like = weather_data[\"main\"][\"feels_like\"]\n",
        "    humidity = weather_data[\"main\"][\"humidity\"]\n",
        "    weather_desc = weather_data[\"weather\"][0][\"description\"]\n",
        "    wind_speed = weather_data[\"wind\"][\"speed\"]\n",
        "\n",
        "    print(\"\\n📍 Weather Report\")\n",
        "    print(f\" <<---City: {city_name}, {country}--->> \")\n",
        "    print(f\"🌡️  Temperature: {temp}°C (Feels like: {feels_like}°C)\")\n",
        "    print(f\"💧  Humidity: {humidity}%\")\n",
        "    print(f\"🌥️ Condition: {weather_desc}\")\n",
        "    print(f\"💨 Wind Speed: {wind_speed} m/s\")"
      ],
      "metadata": {
        "colab": {
          "base_uri": "https://localhost:8080/"
        },
        "id": "TAz-6OeQZNy7",
        "outputId": "e484655f-483b-4157-8e04-61e08ee680e1"
      },
      "execution_count": null,
      "outputs": [
        {
          "output_type": "stream",
          "name": "stdout",
          "text": [
            "Enter your City Nmae: iran\n",
            "\n",
            "📍 Weather Report\n",
            " <<---City: Iran, IR--->> \n",
            "🌡️  Temperature: 36.51°C (Feels like: 33.53°C)\n",
            "💧  Humidity: 5%\n",
            "🌥️ Condition: scattered clouds\n",
            "💨 Wind Speed: 1.89 m/s\n"
          ]
        }
      ]
    }
  ],
  "metadata": {
    "colab": {
      "toc_visible": true,
      "provenance": []
    },
    "kernelspec": {
      "display_name": "Python 3",
      "name": "python3"
    },
    "language_info": {
      "name": "python"
    }
  },
  "nbformat": 4,
  "nbformat_minor": 0
}